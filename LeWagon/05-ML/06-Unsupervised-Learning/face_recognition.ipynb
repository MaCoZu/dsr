{
 "cells": [
  {
   "cell_type": "markdown",
   "metadata": {},
   "source": [
    "# PCA : Face Recognition\n",
    "\n"
   ]
  },
  {
   "cell_type": "markdown",
   "metadata": {},
   "source": [
    "In this challenge, we will use PCA in combination with a dataset of multiple black & white image**s**\n",
    "\n",
    "This time then:\n",
    "- each image is an observation (sample)\n",
    "- each pixel's luminosity level is a feature (lots of features!!)\n",
    "\n",
    "We will use PCA to compress the picture by reducing the number of feature used to describe it."
   ]
  },
  {
   "cell_type": "markdown",
   "metadata": {},
   "source": [
    "## Load dataset\n",
    "\n",
    "Using PCA for dimensionality reduction involves zeroing out one or more of the smallest principal components, resulting in a **lower-dimensional projection** of the data that preserves the maximal data variance.\n",
    "\n",
    "We can then use those new representations as features to feed any model we want. It can be very useful since you often have lots of features, and you want to transform and keep a packed number of features that are the most representative of what you want to model.\n",
    "\n",
    "__Lets load a face image dataset and apply PCA.__"
   ]
  },
  {
   "cell_type": "code",
   "execution_count": 5,
   "metadata": {},
   "outputs": [],
   "source": [
    "# Load data\n",
    "from sklearn.datasets import fetch_lfw_people\n",
    "faces = fetch_lfw_people(min_faces_per_person=70, resize=0.4)"
   ]
  },
  {
   "cell_type": "markdown",
   "metadata": {},
   "source": [
    "You have access to\n",
    "- `faces.images` which are the matrix of __50 x 37 pixels__ you can plot \n",
    "- `faces.data` for the the flattened version in  of size __1850 x 1__ (because 50 x 37 = 1850). \n",
    "- `faces.target` which is annotation of every face to the corresponding person (as a number index)"
   ]
  },
  {
   "cell_type": "code",
   "execution_count": 6,
   "metadata": {
    "tags": []
   },
   "outputs": [
    {
     "data": {
      "text/plain": [
       "(1288, 50, 37)"
      ]
     },
     "execution_count": 6,
     "metadata": {},
     "output_type": "execute_result"
    }
   ],
   "source": [
    "# 1288 images\n",
    "faces.images.shape"
   ]
  },
  {
   "cell_type": "code",
   "execution_count": 76,
   "metadata": {
    "collapsed": true,
    "jupyter": {
     "outputs_hidden": true
    },
    "tags": []
   },
   "outputs": [
    {
     "data": {
      "text/html": [
       "<div>\n",
       "<style scoped>\n",
       "    .dataframe tbody tr th:only-of-type {\n",
       "        vertical-align: middle;\n",
       "    }\n",
       "\n",
       "    .dataframe tbody tr th {\n",
       "        vertical-align: top;\n",
       "    }\n",
       "\n",
       "    .dataframe thead th {\n",
       "        text-align: right;\n",
       "    }\n",
       "</style>\n",
       "<table border=\"1\" class=\"dataframe\">\n",
       "  <thead>\n",
       "    <tr style=\"text-align: right;\">\n",
       "      <th></th>\n",
       "      <th>0</th>\n",
       "      <th>1</th>\n",
       "      <th>2</th>\n",
       "      <th>3</th>\n",
       "      <th>4</th>\n",
       "      <th>5</th>\n",
       "      <th>6</th>\n",
       "      <th>7</th>\n",
       "      <th>8</th>\n",
       "      <th>9</th>\n",
       "      <th>...</th>\n",
       "      <th>1840</th>\n",
       "      <th>1841</th>\n",
       "      <th>1842</th>\n",
       "      <th>1843</th>\n",
       "      <th>1844</th>\n",
       "      <th>1845</th>\n",
       "      <th>1846</th>\n",
       "      <th>1847</th>\n",
       "      <th>1848</th>\n",
       "      <th>1849</th>\n",
       "    </tr>\n",
       "  </thead>\n",
       "  <tbody>\n",
       "    <tr>\n",
       "      <th>0</th>\n",
       "      <td>254.000000</td>\n",
       "      <td>254.000000</td>\n",
       "      <td>251.666672</td>\n",
       "      <td>240.333328</td>\n",
       "      <td>185.333328</td>\n",
       "      <td>144.000000</td>\n",
       "      <td>174.000000</td>\n",
       "      <td>196.666672</td>\n",
       "      <td>196.000000</td>\n",
       "      <td>192.333328</td>\n",
       "      <td>...</td>\n",
       "      <td>102.333336</td>\n",
       "      <td>100.000000</td>\n",
       "      <td>99.000000</td>\n",
       "      <td>95.666664</td>\n",
       "      <td>92.333336</td>\n",
       "      <td>90.666664</td>\n",
       "      <td>89.666664</td>\n",
       "      <td>87.333336</td>\n",
       "      <td>88.666664</td>\n",
       "      <td>86.666664</td>\n",
       "    </tr>\n",
       "    <tr>\n",
       "      <th>1</th>\n",
       "      <td>39.666668</td>\n",
       "      <td>50.333332</td>\n",
       "      <td>47.000000</td>\n",
       "      <td>54.666668</td>\n",
       "      <td>99.000000</td>\n",
       "      <td>120.666664</td>\n",
       "      <td>139.666672</td>\n",
       "      <td>157.666672</td>\n",
       "      <td>171.000000</td>\n",
       "      <td>177.666672</td>\n",
       "      <td>...</td>\n",
       "      <td>44.666668</td>\n",
       "      <td>59.666668</td>\n",
       "      <td>73.333336</td>\n",
       "      <td>77.666664</td>\n",
       "      <td>83.666664</td>\n",
       "      <td>103.333336</td>\n",
       "      <td>123.000000</td>\n",
       "      <td>117.666664</td>\n",
       "      <td>115.000000</td>\n",
       "      <td>133.666672</td>\n",
       "    </tr>\n",
       "    <tr>\n",
       "      <th>2</th>\n",
       "      <td>89.333336</td>\n",
       "      <td>104.000000</td>\n",
       "      <td>126.000000</td>\n",
       "      <td>141.333328</td>\n",
       "      <td>152.000000</td>\n",
       "      <td>155.333328</td>\n",
       "      <td>155.333328</td>\n",
       "      <td>160.000000</td>\n",
       "      <td>163.000000</td>\n",
       "      <td>166.666672</td>\n",
       "      <td>...</td>\n",
       "      <td>125.000000</td>\n",
       "      <td>111.666664</td>\n",
       "      <td>100.333336</td>\n",
       "      <td>106.666664</td>\n",
       "      <td>125.000000</td>\n",
       "      <td>117.666664</td>\n",
       "      <td>125.000000</td>\n",
       "      <td>175.333328</td>\n",
       "      <td>183.333328</td>\n",
       "      <td>183.000000</td>\n",
       "    </tr>\n",
       "    <tr>\n",
       "      <th>3</th>\n",
       "      <td>16.666666</td>\n",
       "      <td>7.666667</td>\n",
       "      <td>7.000000</td>\n",
       "      <td>6.000000</td>\n",
       "      <td>16.333334</td>\n",
       "      <td>70.000000</td>\n",
       "      <td>170.000000</td>\n",
       "      <td>169.666672</td>\n",
       "      <td>161.000000</td>\n",
       "      <td>106.333336</td>\n",
       "      <td>...</td>\n",
       "      <td>126.000000</td>\n",
       "      <td>190.000000</td>\n",
       "      <td>230.000000</td>\n",
       "      <td>238.000000</td>\n",
       "      <td>239.333328</td>\n",
       "      <td>233.666672</td>\n",
       "      <td>134.000000</td>\n",
       "      <td>27.666666</td>\n",
       "      <td>38.000000</td>\n",
       "      <td>51.333332</td>\n",
       "    </tr>\n",
       "    <tr>\n",
       "      <th>4</th>\n",
       "      <td>122.666664</td>\n",
       "      <td>121.000000</td>\n",
       "      <td>126.666664</td>\n",
       "      <td>129.333328</td>\n",
       "      <td>129.333328</td>\n",
       "      <td>134.666672</td>\n",
       "      <td>142.000000</td>\n",
       "      <td>142.666672</td>\n",
       "      <td>147.333328</td>\n",
       "      <td>152.000000</td>\n",
       "      <td>...</td>\n",
       "      <td>31.000000</td>\n",
       "      <td>17.666666</td>\n",
       "      <td>6.666667</td>\n",
       "      <td>5.666667</td>\n",
       "      <td>5.666667</td>\n",
       "      <td>10.333333</td>\n",
       "      <td>10.666667</td>\n",
       "      <td>22.000000</td>\n",
       "      <td>61.666668</td>\n",
       "      <td>70.666664</td>\n",
       "    </tr>\n",
       "    <tr>\n",
       "      <th>...</th>\n",
       "      <td>...</td>\n",
       "      <td>...</td>\n",
       "      <td>...</td>\n",
       "      <td>...</td>\n",
       "      <td>...</td>\n",
       "      <td>...</td>\n",
       "      <td>...</td>\n",
       "      <td>...</td>\n",
       "      <td>...</td>\n",
       "      <td>...</td>\n",
       "      <td>...</td>\n",
       "      <td>...</td>\n",
       "      <td>...</td>\n",
       "      <td>...</td>\n",
       "      <td>...</td>\n",
       "      <td>...</td>\n",
       "      <td>...</td>\n",
       "      <td>...</td>\n",
       "      <td>...</td>\n",
       "      <td>...</td>\n",
       "      <td>...</td>\n",
       "    </tr>\n",
       "    <tr>\n",
       "      <th>1283</th>\n",
       "      <td>18.000000</td>\n",
       "      <td>36.333332</td>\n",
       "      <td>81.666664</td>\n",
       "      <td>97.000000</td>\n",
       "      <td>103.000000</td>\n",
       "      <td>102.666664</td>\n",
       "      <td>109.333336</td>\n",
       "      <td>122.333336</td>\n",
       "      <td>133.666672</td>\n",
       "      <td>141.666672</td>\n",
       "      <td>...</td>\n",
       "      <td>130.333328</td>\n",
       "      <td>139.333328</td>\n",
       "      <td>132.333328</td>\n",
       "      <td>140.666672</td>\n",
       "      <td>200.666672</td>\n",
       "      <td>241.333328</td>\n",
       "      <td>200.000000</td>\n",
       "      <td>76.000000</td>\n",
       "      <td>50.333332</td>\n",
       "      <td>57.333332</td>\n",
       "    </tr>\n",
       "    <tr>\n",
       "      <th>1284</th>\n",
       "      <td>45.333332</td>\n",
       "      <td>46.000000</td>\n",
       "      <td>53.333332</td>\n",
       "      <td>81.000000</td>\n",
       "      <td>122.666664</td>\n",
       "      <td>160.000000</td>\n",
       "      <td>174.333328</td>\n",
       "      <td>179.000000</td>\n",
       "      <td>180.000000</td>\n",
       "      <td>179.000000</td>\n",
       "      <td>...</td>\n",
       "      <td>81.333336</td>\n",
       "      <td>68.333336</td>\n",
       "      <td>82.333336</td>\n",
       "      <td>96.333336</td>\n",
       "      <td>92.000000</td>\n",
       "      <td>94.666664</td>\n",
       "      <td>89.666664</td>\n",
       "      <td>86.333336</td>\n",
       "      <td>91.666664</td>\n",
       "      <td>113.666664</td>\n",
       "    </tr>\n",
       "    <tr>\n",
       "      <th>1285</th>\n",
       "      <td>86.000000</td>\n",
       "      <td>80.333336</td>\n",
       "      <td>74.666664</td>\n",
       "      <td>89.666664</td>\n",
       "      <td>125.333336</td>\n",
       "      <td>160.666672</td>\n",
       "      <td>181.000000</td>\n",
       "      <td>187.000000</td>\n",
       "      <td>192.000000</td>\n",
       "      <td>195.000000</td>\n",
       "      <td>...</td>\n",
       "      <td>47.666668</td>\n",
       "      <td>49.666668</td>\n",
       "      <td>53.000000</td>\n",
       "      <td>50.000000</td>\n",
       "      <td>45.000000</td>\n",
       "      <td>41.666668</td>\n",
       "      <td>41.333332</td>\n",
       "      <td>44.000000</td>\n",
       "      <td>49.666668</td>\n",
       "      <td>44.666668</td>\n",
       "    </tr>\n",
       "    <tr>\n",
       "      <th>1286</th>\n",
       "      <td>50.333332</td>\n",
       "      <td>65.666664</td>\n",
       "      <td>88.000000</td>\n",
       "      <td>78.333336</td>\n",
       "      <td>81.333336</td>\n",
       "      <td>110.666664</td>\n",
       "      <td>113.333336</td>\n",
       "      <td>85.333336</td>\n",
       "      <td>110.000000</td>\n",
       "      <td>133.666672</td>\n",
       "      <td>...</td>\n",
       "      <td>137.333328</td>\n",
       "      <td>145.000000</td>\n",
       "      <td>153.333328</td>\n",
       "      <td>166.666672</td>\n",
       "      <td>173.333328</td>\n",
       "      <td>179.000000</td>\n",
       "      <td>199.000000</td>\n",
       "      <td>197.000000</td>\n",
       "      <td>179.333328</td>\n",
       "      <td>166.333328</td>\n",
       "    </tr>\n",
       "    <tr>\n",
       "      <th>1287</th>\n",
       "      <td>30.000000</td>\n",
       "      <td>27.000000</td>\n",
       "      <td>32.666668</td>\n",
       "      <td>43.666668</td>\n",
       "      <td>70.666664</td>\n",
       "      <td>104.666664</td>\n",
       "      <td>125.333336</td>\n",
       "      <td>133.000000</td>\n",
       "      <td>133.666672</td>\n",
       "      <td>132.000000</td>\n",
       "      <td>...</td>\n",
       "      <td>73.000000</td>\n",
       "      <td>63.000000</td>\n",
       "      <td>63.333332</td>\n",
       "      <td>62.333332</td>\n",
       "      <td>84.666664</td>\n",
       "      <td>118.666664</td>\n",
       "      <td>55.333332</td>\n",
       "      <td>35.000000</td>\n",
       "      <td>35.333332</td>\n",
       "      <td>61.000000</td>\n",
       "    </tr>\n",
       "  </tbody>\n",
       "</table>\n",
       "<p>1288 rows × 1850 columns</p>\n",
       "</div>"
      ],
      "text/plain": [
       "            0           1           2           3           4           5     \\\n",
       "0     254.000000  254.000000  251.666672  240.333328  185.333328  144.000000   \n",
       "1      39.666668   50.333332   47.000000   54.666668   99.000000  120.666664   \n",
       "2      89.333336  104.000000  126.000000  141.333328  152.000000  155.333328   \n",
       "3      16.666666    7.666667    7.000000    6.000000   16.333334   70.000000   \n",
       "4     122.666664  121.000000  126.666664  129.333328  129.333328  134.666672   \n",
       "...          ...         ...         ...         ...         ...         ...   \n",
       "1283   18.000000   36.333332   81.666664   97.000000  103.000000  102.666664   \n",
       "1284   45.333332   46.000000   53.333332   81.000000  122.666664  160.000000   \n",
       "1285   86.000000   80.333336   74.666664   89.666664  125.333336  160.666672   \n",
       "1286   50.333332   65.666664   88.000000   78.333336   81.333336  110.666664   \n",
       "1287   30.000000   27.000000   32.666668   43.666668   70.666664  104.666664   \n",
       "\n",
       "            6           7           8           9     ...        1840  \\\n",
       "0     174.000000  196.666672  196.000000  192.333328  ...  102.333336   \n",
       "1     139.666672  157.666672  171.000000  177.666672  ...   44.666668   \n",
       "2     155.333328  160.000000  163.000000  166.666672  ...  125.000000   \n",
       "3     170.000000  169.666672  161.000000  106.333336  ...  126.000000   \n",
       "4     142.000000  142.666672  147.333328  152.000000  ...   31.000000   \n",
       "...          ...         ...         ...         ...  ...         ...   \n",
       "1283  109.333336  122.333336  133.666672  141.666672  ...  130.333328   \n",
       "1284  174.333328  179.000000  180.000000  179.000000  ...   81.333336   \n",
       "1285  181.000000  187.000000  192.000000  195.000000  ...   47.666668   \n",
       "1286  113.333336   85.333336  110.000000  133.666672  ...  137.333328   \n",
       "1287  125.333336  133.000000  133.666672  132.000000  ...   73.000000   \n",
       "\n",
       "            1841        1842        1843        1844        1845        1846  \\\n",
       "0     100.000000   99.000000   95.666664   92.333336   90.666664   89.666664   \n",
       "1      59.666668   73.333336   77.666664   83.666664  103.333336  123.000000   \n",
       "2     111.666664  100.333336  106.666664  125.000000  117.666664  125.000000   \n",
       "3     190.000000  230.000000  238.000000  239.333328  233.666672  134.000000   \n",
       "4      17.666666    6.666667    5.666667    5.666667   10.333333   10.666667   \n",
       "...          ...         ...         ...         ...         ...         ...   \n",
       "1283  139.333328  132.333328  140.666672  200.666672  241.333328  200.000000   \n",
       "1284   68.333336   82.333336   96.333336   92.000000   94.666664   89.666664   \n",
       "1285   49.666668   53.000000   50.000000   45.000000   41.666668   41.333332   \n",
       "1286  145.000000  153.333328  166.666672  173.333328  179.000000  199.000000   \n",
       "1287   63.000000   63.333332   62.333332   84.666664  118.666664   55.333332   \n",
       "\n",
       "            1847        1848        1849  \n",
       "0      87.333336   88.666664   86.666664  \n",
       "1     117.666664  115.000000  133.666672  \n",
       "2     175.333328  183.333328  183.000000  \n",
       "3      27.666666   38.000000   51.333332  \n",
       "4      22.000000   61.666668   70.666664  \n",
       "...          ...         ...         ...  \n",
       "1283   76.000000   50.333332   57.333332  \n",
       "1284   86.333336   91.666664  113.666664  \n",
       "1285   44.000000   49.666668   44.666668  \n",
       "1286  197.000000  179.333328  166.333328  \n",
       "1287   35.000000   35.333332   61.000000  \n",
       "\n",
       "[1288 rows x 1850 columns]"
      ]
     },
     "execution_count": 76,
     "metadata": {},
     "output_type": "execute_result"
    }
   ],
   "source": [
    "# 1288 images flattened, equivalent to to faces.images.reshape(1288,1850)\n",
    "pd.DataFrame(faces.data)"
   ]
  },
  {
   "cell_type": "code",
   "execution_count": 8,
   "metadata": {
    "tags": []
   },
   "outputs": [
    {
     "data": {
      "text/plain": [
       "array([5, 6, 3, ..., 5, 3, 5])"
      ]
     },
     "execution_count": 8,
     "metadata": {},
     "output_type": "execute_result"
    }
   ],
   "source": [
    "faces.target"
   ]
  },
  {
   "cell_type": "code",
   "execution_count": 9,
   "metadata": {
    "tags": []
   },
   "outputs": [
    {
     "data": {
      "image/png": "[encoded data removed]",
      "text/plain": [
       "<Figure size 504x720 with 15 Axes>"
      ]
     },
     "metadata": {},
     "output_type": "display_data"
    }
   ],
   "source": [
    "# Let’s visualize some faces.\n",
    "import matplotlib.pyplot as plt\n",
    "fig = plt.figure(figsize=(7,10))\n",
    "for i in range(15):\n",
    "    plt.subplot(5, 5, i + 1)\n",
    "    plt.title(faces.target_names[faces.target[i]], size=12)\n",
    "    plt.imshow(faces.images[i], cmap=plt.cm.gray)\n",
    "    plt.xticks(())\n",
    "    plt.yticks(())"
   ]
  },
  {
   "cell_type": "markdown",
   "metadata": {},
   "source": [
    "## Compress images with PCA"
   ]
  },
  {
   "cell_type": "markdown",
   "metadata": {},
   "source": [
    "In this scikit dataset we have 50 × 37 pixel images (1850 dimensions!). Often, so many dimensions is a lot to train algorithms we studied in the previous exercises (for example SVM). \n",
    "\n",
    "That's why we use PCA to reduce these features to a more manageable size, while maintaining most of the information of the dataset.\n",
    "\n",
    "__👉 Apply PCA to the dataset (both fit and transform), to reduce dimensions to 150, by setting `n_components=150`__. Put your transformation into a variable named `data_projected`"
   ]
  },
  {
   "cell_type": "code",
   "execution_count": 27,
   "metadata": {
    "tags": []
   },
   "outputs": [
    {
     "data": {
      "image/png": "[encoded data removed]",
      "text/plain": [
       "<Figure size 432x288 with 1 Axes>"
      ]
     },
     "metadata": {
      "needs_background": "light"
     },
     "output_type": "display_data"
    }
   ],
   "source": [
    "plt.imshow(faces.images[0]);"
   ]
  },
  {
   "cell_type": "code",
   "execution_count": 34,
   "metadata": {
    "tags": []
   },
   "outputs": [],
   "source": [
    "X_reshape = faces.data"
   ]
  },
  {
   "cell_type": "code",
   "execution_count": 37,
   "metadata": {
    "tags": []
   },
   "outputs": [],
   "source": [
    "import pandas as pd\n",
    "from sklearn.decomposition import PCA"
   ]
  },
  {
   "cell_type": "code",
   "execution_count": 57,
   "metadata": {
    "tags": []
   },
   "outputs": [],
   "source": [
    "pca = PCA(n_components=150)\n",
    "data_projected = pca.fit_transform(X_reshape)"
   ]
  },
  {
   "cell_type": "markdown",
   "metadata": {},
   "source": [
    "The face dataset was projected onto only the first 150 principal components! Again, what we call components are directions of most variance of the dataset. \n",
    "\n",
    "It means that now, we don't need 1850 pixels anymore to describe each images but just 150 values. A gain by factor 12.\n",
    "\n",
    "__How is that possible?__\n",
    "\n",
    "- The pca has found to be the most representative directions of what distinguishes faces between each other with just 150 values for every image. \n",
    "\n",
    "- They are the directions of most variance. \n",
    "\n",
    "- You can access them in `pca.components_`\n",
    "\n",
    "👉  Look at the first component of this array of components, and its shape"
   ]
  },
  {
   "cell_type": "code",
   "execution_count": 55,
   "metadata": {
    "tags": [
     "challengify"
    ]
   },
   "outputs": [
    {
     "data": {
      "text/plain": [
       "array([-0.00681689, -0.00736352, -0.00855027, ..., -0.01404506,\n",
       "       -0.01195598, -0.00964074], dtype=float32)"
      ]
     },
     "execution_count": 55,
     "metadata": {},
     "output_type": "execute_result"
    }
   ],
   "source": [
    "pca.components_[0]"
   ]
  },
  {
   "cell_type": "code",
   "execution_count": 59,
   "metadata": {
    "tags": []
   },
   "outputs": [
    {
     "data": {
      "text/plain": [
       "(150, 1850)"
      ]
     },
     "execution_count": 59,
     "metadata": {},
     "output_type": "execute_result"
    }
   ],
   "source": [
    "pca.components_.shape"
   ]
  },
  {
   "cell_type": "markdown",
   "metadata": {},
   "source": [
    "As you can see, it's a vector of 1850 values. We have now 150 components of 1850 values each.\n",
    "\n",
    "One face is now described as a combination (sum) of those components.\n",
    "\n",
    "Let's reconstruct one image from its reduced representation to see how it works.\n",
    "\n",
    "👉 Use `inverse_transform` on your `data_projected` to reconstruct a `data_reconstructed` dataset"
   ]
  },
  {
   "cell_type": "code",
   "execution_count": 60,
   "metadata": {
    "tags": [
     "challengify"
    ]
   },
   "outputs": [
    {
     "data": {
      "text/plain": [
       "array([[244.45044 , 249.64449 , 236.10072 , ...,  84.65434 ,  82.240616,\n",
       "         87.74861 ],\n",
       "       [ 62.98133 ,  58.8986  ,  59.8188  , ..., 128.41617 , 115.18217 ,\n",
       "        120.177826],\n",
       "       [100.886406, 112.7641  , 134.97424 , ..., 157.42395 , 174.39839 ,\n",
       "        193.7172  ],\n",
       "       ...,\n",
       "       [ 79.7249  ,  67.2772  ,  65.38992 , ...,  47.880127,  43.9451  ,\n",
       "         56.353157],\n",
       "       [ 63.028748,  74.05713 ,  85.94153 , ..., 174.8107  , 186.63597 ,\n",
       "        190.91946 ],\n",
       "       [ 27.110397,  32.67746 ,  33.868134, ...,  33.240234,  34.880035,\n",
       "         41.360847]], dtype=float32)"
      ]
     },
     "execution_count": 60,
     "metadata": {},
     "output_type": "execute_result"
    }
   ],
   "source": [
    "X_reconstructed = pca.inverse_transform(data_projected)\n",
    "X_reconstructed"
   ]
  },
  {
   "cell_type": "markdown",
   "metadata": {},
   "source": [
    "👉 Plot the 13th picture (Gearge W Bush) of the reconstructed dataset, and compare it with the original one. \n",
    "\n",
    "<details>\n",
    "    <summary>💡Hint</summary>\n",
    "\n",
    "You'll have to reshape the flattened data into an \"image\" of dimension 2\n",
    "</details>"
   ]
  },
  {
   "cell_type": "code",
   "execution_count": 68,
   "metadata": {},
   "outputs": [],
   "source": [
    "bush = X_reconstructed[12].reshape(50,37)"
   ]
  },
  {
   "cell_type": "code",
   "execution_count": 73,
   "metadata": {},
   "outputs": [
    {
     "data": {
      "text/plain": [
       "<matplotlib.image.AxesImage at 0x7f35ba88f7c0>"
      ]
     },
     "execution_count": 73,
     "metadata": {},
     "output_type": "execute_result"
    },
    {
     "data": {
      "image/png": "[encoded data removed]",
      "text/plain": [
       "<Figure size 432x288 with 1 Axes>"
      ]
     },
     "metadata": {
      "needs_background": "light"
     },
     "output_type": "display_data"
    }
   ],
   "source": [
    "plt.imshow(faces.images[12])"
   ]
  },
  {
   "cell_type": "code",
   "execution_count": 70,
   "metadata": {
    "tags": [
     "challengify"
    ]
   },
   "outputs": [
    {
     "data": {
      "image/png": "[encoded data removed]",
      "text/plain": [
       "<Figure size 432x288 with 1 Axes>"
      ]
     },
     "metadata": {
      "needs_background": "light"
     },
     "output_type": "display_data"
    }
   ],
   "source": [
    "plt.imshow(bush);"
   ]
  },
  {
   "cell_type": "markdown",
   "metadata": {},
   "source": [
    "### 🧪 Test your code"
   ]
  },
  {
   "cell_type": "code",
   "execution_count": 77,
   "metadata": {},
   "outputs": [
    {
     "name": "stdout",
     "output_type": "stream",
     "text": [
      "\u001b[1m============================= test session starts ==============================\u001b[0m\n",
      "platform linux -- Python 3.8.12, pytest-6.2.5, py-1.10.0, pluggy-1.0.0 -- /home/mz/.pyenv/versions/lewagon/bin/python3\n",
      "cachedir: .pytest_cache\n",
      "rootdir: /home/mz/code/MaCoZu/data-challenges/05-ML/06-Unsupervised-Learning/02-Face-Recognition\n",
      "plugins: dash-2.0.0, anyio-3.3.2\n",
      "\u001b[1mcollecting ... \u001b[0mcollected 1 item\n",
      "\n",
      "tests/test_projection.py::TestProjection::test_shape \u001b[32mPASSED\u001b[0m\u001b[32m              [100%]\u001b[0m\n",
      "\n",
      "\u001b[32m============================== \u001b[32m\u001b[1m1 passed\u001b[0m\u001b[32m in 0.02s\u001b[0m\u001b[32m ===============================\u001b[0m\n",
      "\n",
      "\n",
      "💯 You can commit your code:\n",
      "\n",
      "\u001b[1;32mgit\u001b[39m add tests/projection.pickle\n",
      "\n",
      "\u001b[32mgit\u001b[39m commit -m \u001b[33m'Completed projection step'\u001b[39m\n",
      "\n",
      "\u001b[32mgit\u001b[39m push origin master\n"
     ]
    }
   ],
   "source": [
    "from nbresult import ChallengeResult\n",
    "\n",
    "result = ChallengeResult('projection', shape=data_projected.shape)\n",
    "result.write()\n",
    "print(result.check())"
   ]
  },
  {
   "cell_type": "markdown",
   "metadata": {},
   "source": [
    "👉 (Optional) study the code below which reconstruct the image step by step without `inverse_transform`. \n",
    "\n",
    "Instead, we do manually the multiplication $X_{reconstructed} = X_{projected} W$ with $W$ being the `pca.components_` matrix of 150 PC in rows expressed as linear combination of 1850 pixels in columns\n"
   ]
  },
  {
   "cell_type": "code",
   "execution_count": 79,
   "metadata": {},
   "outputs": [
    {
     "data": {
      "image/png": "[encoded data removed]",
      "text/plain": [
       "<Figure size 360x360 with 2 Axes>"
      ]
     },
     "metadata": {
      "needs_background": "light"
     },
     "output_type": "display_data"
    }
   ],
   "source": [
    "num_dimensions = 150\n",
    "\n",
    "# We do our reconstruction over the 13th image\n",
    "image_original = faces.images[12];\n",
    "image_compressed = data_projected[12];\n",
    "\n",
    "# we start the reconstruction from the mean over all images (feel free to print mean face to check!)\n",
    "image_reconstructed = pca.mean_.copy(); \n",
    "\n",
    "# Then, reconstruct the image by doing the sum of every 150 entry of its compressed representation,\n",
    "# weighted by the corresponding principal components\n",
    "for i in range(num_dimensions):\n",
    "    image_reconstructed += pca.components_[i] * image_compressed[i]\n",
    "    \n",
    "# Plot the original and the compressed image.\n",
    "fig, ax = plt.subplots(1, 2, figsize = (5,5))\n",
    "ax[0].imshow(image_original, cmap=plt.cm.gray)\n",
    "ax[0].set_title('Original Image')\n",
    "ax[1].imshow(image_reconstructed.reshape(faces.images[0].shape), cmap=plt.cm.gray)\n",
    "ax[1].set_title('Compressed reconstructed Image')\n",
    "for ax in fig.axes:\n",
    "    ax.axis('off')\n",
    "plt.tight_layout()"
   ]
  },
  {
   "cell_type": "markdown",
   "metadata": {},
   "source": [
    "## Investigate your Principal Components"
   ]
  },
  {
   "cell_type": "markdown",
   "metadata": {},
   "source": [
    "👉 Image-plot the \"mean\" face of the dataset\n",
    "\n",
    "<details>\n",
    "    <summary>💡Hint</summary>\n",
    "\n",
    "\n",
    "You can use `pca.mean_` or `faces.data.mean(axis=0)`\n",
    "</details>\n"
   ]
  },
  {
   "cell_type": "code",
   "execution_count": 113,
   "metadata": {},
   "outputs": [
    {
     "data": {
      "image/png": "[encoded data removed]",
      "text/plain": [
       "<Figure size 432x288 with 1 Axes>"
      ]
     },
     "metadata": {
      "needs_background": "light"
     },
     "output_type": "display_data"
    }
   ],
   "source": [
    "plt.imshow(pca.components_[0].reshape(50,37));"
   ]
  },
  {
   "cell_type": "code",
   "execution_count": 114,
   "metadata": {
    "tags": [
     "challengify"
    ]
   },
   "outputs": [
    {
     "data": {
      "image/png": "[encoded data removed]",
      "text/plain": [
       "<Figure size 432x288 with 1 Axes>"
      ]
     },
     "metadata": {
      "needs_background": "light"
     },
     "output_type": "display_data"
    }
   ],
   "source": [
    "plt.imshow(pca.components_[149].reshape(50,37));"
   ]
  },
  {
   "cell_type": "markdown",
   "metadata": {},
   "source": [
    "👉 Access your first PC. What's its shape? Print it as pd.Series or NDarray. What does each values represents?"
   ]
  },
  {
   "cell_type": "code",
   "execution_count": 95,
   "metadata": {
    "tags": [
     "challengify"
    ]
   },
   "outputs": [
    {
     "data": {
      "text/plain": [
       "0      -0.006817\n",
       "1      -0.007364\n",
       "2      -0.008550\n",
       "3      -0.010022\n",
       "4      -0.011143\n",
       "          ...   \n",
       "1845   -0.017788\n",
       "1846   -0.016010\n",
       "1847   -0.014045\n",
       "1848   -0.011956\n",
       "1849   -0.009641\n",
       "Length: 1850, dtype: float32"
      ]
     },
     "execution_count": 95,
     "metadata": {},
     "output_type": "execute_result"
    }
   ],
   "source": [
    "pd.Series(pca.components_[0])"
   ]
  },
  {
   "cell_type": "markdown",
   "metadata": {},
   "source": [
    "Each PC is a flatten \"image\" of 1850 pixels\n",
    "\n",
    "- Your first PC are the most important \"directions\" on of your 1850-dimension dataset.\n",
    "\n",
    "- They are the most important \"linear combination of your 1850 pixels\".\n",
    "\n",
    "- The ones which preserves the most \"variance\" when your dataset of pictures is projected onto it.\n",
    "\n",
    "- The first few PCs are the regions of the 2D pixel grid that bear the most differences between your 1288 images"
   ]
  },
  {
   "cell_type": "markdown",
   "metadata": {},
   "source": [
    "👉 Image-Plot the **5 first** principal components, as well as the **last** one.\n",
    "Do you see more intuitively what PC are? "
   ]
  },
  {
   "cell_type": "code",
   "execution_count": 142,
   "metadata": {},
   "outputs": [
    {
     "data": {
      "text/plain": [
       "array([[ 1.1781255e-03,  1.8977306e-03,  2.1867245e-03, ...,\n",
       "        -4.6083642e-05,  5.8490952e-04,  1.6630448e-03],\n",
       "       [ 1.0706835e-03,  1.4542292e-03,  3.9562074e-04, ...,\n",
       "        -6.9625693e-04, -1.8393758e-04,  5.4174819e-04],\n",
       "       [ 6.2285853e-04,  3.1570150e-04, -1.9185646e-03, ...,\n",
       "        -9.8976388e-04, -4.3254302e-04,  1.0518370e-05],\n",
       "       ...,\n",
       "       [ 8.8295859e-04,  3.0831050e-03,  2.0113005e-03, ...,\n",
       "        -2.5044417e-03, -1.0503581e-03, -3.8385263e-03],\n",
       "       [-2.9215608e-03, -1.2128103e-03, -2.4705534e-04, ...,\n",
       "        -2.1081767e-03, -1.4183514e-03, -4.5763431e-03],\n",
       "       [-4.9541323e-03, -3.7675635e-03, -2.1633680e-03, ...,\n",
       "        -1.6834143e-03, -1.7907979e-03, -4.7190357e-03]], dtype=float32)"
      ]
     },
     "execution_count": 142,
     "metadata": {},
     "output_type": "execute_result"
    }
   ],
   "source": [
    "mean5 = pca.components_[:149].mean(axis=0).reshape(50,37)\n",
    "mean5"
   ]
  },
  {
   "cell_type": "code",
   "execution_count": 143,
   "metadata": {
    "tags": [
     "challengify"
    ]
   },
   "outputs": [
    {
     "data": {
      "image/png": "[encoded data removed]",
      "text/plain": [
       "<Figure size 432x288 with 1 Axes>"
      ]
     },
     "metadata": {
      "needs_background": "light"
     },
     "output_type": "display_data"
    }
   ],
   "source": [
    "plt.imshow(mean5);"
   ]
  },
  {
   "cell_type": "markdown",
   "metadata": {},
   "source": [
    "Every image can be represented by the \"mean face\" plus a linear combination of the 150 \"PC faces\"."
   ]
  },
  {
   "cell_type": "markdown",
   "metadata": {},
   "source": [
    "## How to Choose the Number of Components?\n",
    "\n",
    "In practice, it is very important to find how many components are needed to describe the data without losing too much information. This can be determined visually by plotting the cumulative sum of `explained_variance_ratio_` as a function of the number of components.\n",
    " \n",
    "👉 Plot it below for the first 150 components"
   ]
  },
  {
   "cell_type": "code",
   "execution_count": 145,
   "metadata": {},
   "outputs": [],
   "source": [
    "import numpy as np"
   ]
  },
  {
   "cell_type": "code",
   "execution_count": 146,
   "metadata": {
    "tags": [
     "challengify"
    ]
   },
   "outputs": [
    {
     "data": {
      "image/png": "[encoded data removed]",
      "text/plain": [
       "<Figure size 432x288 with 1 Axes>"
      ]
     },
     "metadata": {
      "needs_background": "light"
     },
     "output_type": "display_data"
    }
   ],
   "source": [
    "plt.plot(np.cumsum(pca.explained_variance_ratio_))\n",
    "plt.ylim(ymin=0)\n",
    "plt.title('cumulated share of explained variance')\n",
    "plt.xlabel('# of principal component used');"
   ]
  },
  {
   "cell_type": "markdown",
   "metadata": {},
   "source": [
    "This curve quantifies how much of the total variance is contained within the first components. For example:\n",
    "- The first 20 components contain more than 75% of the variance,\n",
    "- while we need about only 70 components to describe 90% of the variance!"
   ]
  },
  {
   "cell_type": "markdown",
   "metadata": {},
   "source": [
    "**❓ What is the minimal number of components you need to keep to get _at least_ 80% of the variance?  Assign the value to a variable called `minimal_pc_count`**  "
   ]
  },
  {
   "cell_type": "code",
   "execution_count": 187,
   "metadata": {},
   "outputs": [
    {
     "data": {
      "text/plain": [
       "0.0003938797"
      ]
     },
     "execution_count": 187,
     "metadata": {},
     "output_type": "execute_result"
    }
   ],
   "source": [
    "pca.explained_variance_ratio_[0]"
   ]
  },
  {
   "cell_type": "code",
   "execution_count": 191,
   "metadata": {},
   "outputs": [
    {
     "data": {
      "text/plain": [
       "0.0003938796871807426"
      ]
     },
     "execution_count": 191,
     "metadata": {},
     "output_type": "execute_result"
    }
   ],
   "source": [
    "minimal_pc_count = 0\n",
    "i = 0\n",
    "\n",
    "if minimal_pc_count <= 0.8:\n",
    "    minimal_pc_count += pca.explained_variance_ratio_[i]\n",
    "    i +=1\n",
    "\n",
    "minimal_pc_count"
   ]
  },
  {
   "cell_type": "code",
   "execution_count": null,
   "metadata": {},
   "outputs": [],
   "source": []
  },
  {
   "cell_type": "code",
   "execution_count": null,
   "metadata": {
    "tags": [
     "challengify"
    ]
   },
   "outputs": [],
   "source": [
    "minimal_pc_count = np.cumsum(pca.explained_variance_ratio_)"
   ]
  },
  {
   "cell_type": "code",
   "execution_count": 152,
   "metadata": {},
   "outputs": [
    {
     "data": {
      "text/plain": [
       "<bound method DataFrame.sort_values of             0\n",
       "0    0.188317\n",
       "1    0.150670\n",
       "2    0.072690\n",
       "3    0.060348\n",
       "4    0.051404\n",
       "..        ...\n",
       "145  0.000414\n",
       "146  0.000409\n",
       "147  0.000401\n",
       "148  0.000396\n",
       "149  0.000394\n",
       "\n",
       "[150 rows x 1 columns]>"
      ]
     },
     "execution_count": 152,
     "metadata": {},
     "output_type": "execute_result"
    }
   ],
   "source": [
    "pd.DataFrame(pca.explained_variance_ratio_).sort_values"
   ]
  },
  {
   "cell_type": "markdown",
   "metadata": {},
   "source": [
    "### 🧪 Test your code"
   ]
  },
  {
   "cell_type": "code",
   "execution_count": null,
   "metadata": {},
   "outputs": [],
   "source": [
    "from nbresult import ChallengeResult\n",
    "\n",
    "result = ChallengeResult('components', min_pc = minimal_pc_count)\n",
    "result.write()\n",
    "print(result.check())"
   ]
  },
  {
   "cell_type": "markdown",
   "metadata": {},
   "source": [
    "## Classify images (PCA as feature engineering)\n",
    "\n",
    "You have this dataset of faces and you want to build a face recognition engine to predict `faces.target` which is annotation of every face to the corresponding person (as a number index)\n",
    "\n",
    "You can now use this low-dimensional new transformation you just created, that is still representative of the faces to train your supervised algorithm!"
   ]
  },
  {
   "cell_type": "markdown",
   "metadata": {},
   "source": [
    "### Train test split the face dataset\n",
    "\n",
    "👉 Use the train test split function from scikit to separate __the original faces dataset__ into training and testing set, `X_train`, `X_test`, `y_train`, `y_test`"
   ]
  },
  {
   "cell_type": "code",
   "execution_count": null,
   "metadata": {
    "tags": [
     "challengify"
    ]
   },
   "outputs": [],
   "source": [
    "# YOUR CODE HERE"
   ]
  },
  {
   "cell_type": "markdown",
   "metadata": {},
   "source": [
    "### Transform your training set to reduce the number of dimensions / features"
   ]
  },
  {
   "cell_type": "markdown",
   "metadata": {},
   "source": [
    "👉 Fit a PCA __over the training data only__ and transform your training data into the reduced dimension (150 features for example)."
   ]
  },
  {
   "cell_type": "code",
   "execution_count": null,
   "metadata": {
    "tags": [
     "challengify"
    ]
   },
   "outputs": [],
   "source": [
    "# YOUR CODE HERE"
   ]
  },
  {
   "cell_type": "markdown",
   "metadata": {},
   "source": [
    "👉 Using this same PCA (only trained on the training set) transform your testing set as well"
   ]
  },
  {
   "cell_type": "code",
   "execution_count": null,
   "metadata": {
    "tags": [
     "challengify"
    ]
   },
   "outputs": [],
   "source": [
    "# YOUR CODE HERE"
   ]
  },
  {
   "cell_type": "markdown",
   "metadata": {},
   "source": [
    "### Cross validate your choice of best hyperparameters"
   ]
  },
  {
   "cell_type": "markdown",
   "metadata": {},
   "source": [
    "👉 Call a cross validated grid search for an SVM, where you loop over all combinations of\n",
    "\n",
    "- kernels\n",
    "- \"C between 10 and 10000\n",
    "- \"gamma\" between 0.0001 and 0.1\n",
    "\n",
    "👉 Use `n_jobs=-1` to make use of all your core CPUs\n",
    "\n",
    "👉 Use `f1_weighted` as the performance metric"
   ]
  },
  {
   "cell_type": "markdown",
   "metadata": {},
   "source": [
    "<details>\n",
    "    <summary>🔎 Hint </summary>\n",
    "    Remember the task at hand calls for classification, have a look at the <a src=https://scikit-learn.org/stable/modules/generated/sklearn.svm.SVC.html#sklearn.svm.SVC>Support Vector Classification </a> class.\n",
    "</details>"
   ]
  },
  {
   "cell_type": "code",
   "execution_count": null,
   "metadata": {
    "tags": [
     "challengify"
    ]
   },
   "outputs": [],
   "source": [
    "# YOUR CODE HERE"
   ]
  },
  {
   "cell_type": "markdown",
   "metadata": {},
   "source": [
    "👉 Train that cross validation grid search over our newly transformed training set. (Long computation)"
   ]
  },
  {
   "cell_type": "code",
   "execution_count": null,
   "metadata": {
    "tags": [
     "challengify"
    ]
   },
   "outputs": [],
   "source": [
    "# YOUR CODE HERE"
   ]
  },
  {
   "cell_type": "markdown",
   "metadata": {},
   "source": [
    "👉 Print the [classification report](https://scikit-learn.org/stable/modules/generated/sklearn.metrics.classification_report.html#sklearn.metrics.classification_report) of your best model over the testing set "
   ]
  },
  {
   "cell_type": "code",
   "execution_count": null,
   "metadata": {
    "tags": [
     "challengify"
    ]
   },
   "outputs": [],
   "source": [
    "# YOUR CODE HERE"
   ]
  },
  {
   "cell_type": "markdown",
   "metadata": {},
   "source": [
    "👉 Try to improve this score with the best choice of PCA components"
   ]
  },
  {
   "cell_type": "markdown",
   "metadata": {},
   "source": [
    "<details>\n",
    "    <summary>💡 Hint</summary>\n",
    "    \n",
    "- Try to pipeline your preprocessing (PCA) and your modelling (SVC)\n",
    "- A pipeline is an instance of Scikit-Learn `Estimator` which hyperparameters can be grid searched\n",
    "- Consider `n_components` as an hyperparameter of your pipeline!\n",
    "    \n",
    "</details>"
   ]
  },
  {
   "cell_type": "code",
   "execution_count": null,
   "metadata": {
    "tags": [
     "challengify"
    ]
   },
   "outputs": [],
   "source": [
    "# YOUR CODE HERE"
   ]
  },
  {
   "cell_type": "markdown",
   "metadata": {},
   "source": [
    "**❓ How many components give the best score?  Assign the value to a variable called `best_n_components`**"
   ]
  },
  {
   "cell_type": "code",
   "execution_count": null,
   "metadata": {
    "tags": [
     "challengify"
    ]
   },
   "outputs": [],
   "source": [
    "# YOUR CODE HERE"
   ]
  },
  {
   "cell_type": "markdown",
   "metadata": {},
   "source": [
    "### 🧪 Test your code"
   ]
  },
  {
   "cell_type": "code",
   "execution_count": null,
   "metadata": {},
   "outputs": [],
   "source": [
    "from nbresult import ChallengeResult\n",
    "\n",
    "result = ChallengeResult('classification', best_pc=best_n_components)\n",
    "result.write()\n",
    "print(result.check())"
   ]
  },
  {
   "cell_type": "markdown",
   "metadata": {},
   "source": [
    "🏁 **Congratulation! Don't forget to commit and push your notebook**"
   ]
  }
 ],
 "metadata": {
  "kernelspec": {
   "display_name": "Python 3 (ipykernel)",
   "language": "python",
   "name": "python3"
  },
  "language_info": {
   "codemirror_mode": {
    "name": "ipython",
    "version": 3
   },
   "file_extension": ".py",
   "mimetype": "text/x-python",
   "name": "python",
   "nbconvert_exporter": "python",
   "pygments_lexer": "ipython3",
   "version": "3.8.12"
  },
  "toc": {
   "base_numbering": 1,
   "nav_menu": {},
   "number_sections": true,
   "sideBar": true,
   "skip_h1_title": true,
   "title_cell": "Table of Contents",
   "title_sidebar": "Contents",
   "toc_cell": false,
   "toc_position": {
    "height": "calc(100% - 180px)",
    "left": "10px",
    "top": "150px",
    "width": "336px"
   },
   "toc_section_display": true,
   "toc_window_display": false
  },
  "varInspector": {
   "cols": {
    "lenName": 16,
    "lenType": 16,
    "lenVar": 40
   },
   "kernels_config": {
    "python": {
     "delete_cmd_postfix": "",
     "delete_cmd_prefix": "del ",
     "library": "var_list.py",
     "varRefreshCmd": "print(var_dic_list())"
    },
    "r": {
     "delete_cmd_postfix": ") ",
     "delete_cmd_prefix": "rm(",
     "library": "var_list.r",
     "varRefreshCmd": "cat(var_dic_list()) "
    }
   },
   "position": {
    "height": "372.969px",
    "left": "1410px",
    "right": "20px",
    "top": "140px",
    "width": "290px"
   },
   "types_to_exclude": [
    "module",
    "function",
    "builtin_function_or_method",
    "instance",
    "_Feature"
   ],
   "window_display": false
  }
 },
 "nbformat": 4,
 "nbformat_minor": 4
}
