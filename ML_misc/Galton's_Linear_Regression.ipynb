{
  "cells": [
    {
      "cell_type": "markdown",
      "metadata": {
        "id": "PgUg2pM6lk6y"
      },
      "source": [
        "**Prompt: \"create a linear regression model that predicts the height of children, use sklearn's Linear Regression for this. Do a train, test, and validation split. Show plots of the root mean squared error in train, test, and validation.  Also explain the r squared value \"**"
      ]
    },
    {
      "cell_type": "markdown",
      "metadata": {
        "id": "kkO2th5IlxVH"
      },
      "source": [
        "Okay, I understand that you want to create a Linear Regression model using sklearn to predict the height of children. To do this, I will:\n",
        "\n",
        "1. Load the data from the provided CSV file.\n",
        "2. Preprocess the data if necessary.\n",
        "3. Split the data into training, testing, and validation sets.\n",
        "4. Train a Linear Regression model on the training data.\n",
        "5. Evaluate the model's performance on the training, testing, and validation sets using Root Mean Squared Error (RMSE) and plot these values.\n",
        "6. Explain the concept of the R-squared value.\n",
        "\n",
        "Let's start by loading and examining the data.\n",
        "\n",
        "The dataset includes the following columns:\n",
        "\n",
        "1. `family`: The family ID.\n",
        "2. `father`: The height of the father.\n",
        "3. `mother`: The height of the mother.\n",
        "4. `midparentHeight`: The mid-parent height, which is the average of the parents' heights.\n",
        "5. `children`: The number of children in the family.\n",
        "6. `childNum`: The number of the child within their family.\n",
        "7. `gender`: The gender of the child.\n",
        "8. `childHeight`: The height of the child. This is our target variable.\n",
        "\n",
        "Next, we need to preprocess the data. This might include encoding categorical variables (like `gender`), normalizing numerical variables, and handling missing values if any exist. After preprocessing, we can split the data into training, validation, and test sets.\n",
        "\n",
        "Let's proceed with these steps.\n",
        "\n",
        "The dataset does not contain any missing values, which is great. Now we can proceed to the next step of data preprocessing, which is encoding categorical variables (like `gender`) and normalizing numerical variables.\n",
        "\n",
        "After that, we'll split the data into three sets: a training set, a test set, and a validation set. We'll use the training set to train the model, the validation set to tune model parameters, and the test set to evaluate the final model's performance.\n",
        "\n",
        "Let's proceed with these steps.\n",
        "\n",
        "The Root Mean Squared Error (RMSE) for the:\n",
        "\n",
        "- Training set is approximately 1.95\n",
        "- Validation set is approximately 1.82\n",
        "- Test set is approximately 2.04\n",
        "\n",
        "RMSE is a standard way to measure the error of a model in predicting quantitative data. Lower values of RMSE indicate better fit. RMSE is a good measure of how accurately the model predicts the response, and it is the most important criterion for fit if the main purpose of the model is prediction.\n",
        "\n",
        "We can visualize these errors using a bar plot for a better understanding. Let's create the plot.\n",
        "\n",
        "Here is the bar plot of the Root Mean Squared Errors (RMSE) for the training, validation, and test sets. As you can see, the RMSE is relatively low and comparable across the three sets, which suggests that the model is generalizing well and not overfitting to the training data.\n",
        "\n",
        "Next, let's discuss the R-squared value.\n",
        "\n",
        "The R-squared value, also known as the coefficient of determination, is a statistical measure that represents the proportion of the variance for a dependent variable that's explained by an independent variable or variables in a regression model. In other words, it provides a measure of how well the model's predictions match the actual values.\n",
        "\n",
        "The value of R-squared ranges from 0 to 1, where 0 means that the model does not explain any of the variability of the response data around its mean, and 1 means the model explains all the variability of the response data around its mean.\n",
        "\n",
        "In general, the higher the R-squared value, the better the model fits the data. However, a higher R-squared does not necessarily mean the model is better, especially if the model is overfitting and not generalizing well to unseen data.\n",
        "\n",
        "Let's calculate the R-squared value for our model on the test data.\n",
        "\n",
        "The R-squared value for our model on the test data is approximately 0.69. This means that about 69% of the variability in the child's height can be explained by our model, given the variables we used (father's height, mother's height, mid-parent height, number of children in the family, child number, and gender).\n",
        "\n",
        "This is a fairly good R-squared value, as it indicates that our model can explain a substantial portion of the variation in the child's height. However, there is still around 31% of the variation that our model cannot explain. This remaining variation could be due to other factors not included in our model, such as genetics, nutrition, or other environmental factors."
      ]
    },
    {
      "cell_type": "markdown",
      "metadata": {
        "id": "t-hXyvkIsqze"
      },
      "source": [
        "The root mean squared error (RMSE) and the coefficient of determination (R-squared) for the train, validation, and test sets are as follows:\n",
        "\n",
        "- Training Set:\n",
        "  - RMSE: 3.376\n",
        "  - R^2: 0.091\n",
        "\n",
        "- Validation Set:\n",
        "  - RMSE: 3.342\n",
        "  - R^2: 0.129\n",
        "\n",
        "- Test Set:\n",
        "  - RMSE: 3.474\n",
        "  - R^2: 0.103\n",
        "\n",
        "The RMSE is a measure of the differences between the values predicted by the model and the actual values. In other words, it tells us how concentrated the data is around the line of best fit. A lower RMSE is generally better as it indicates that the model's predictions are more accurate.\n",
        "\n",
        "The R-squared (R^2) value is a statistical measure that represents the proportion of the variance for a dependent variable that's explained by an independent variable or variables in a regression model. The value ranges from 0 to 1, with 1 indicating that the independent variable(s) perfectly predict the dependent variable. So, a higher R^2 is generally better.\n",
        "\n",
        "The R^2 values for all sets are low, which suggests that the model doesn't explain a large proportion of the variance in the dependent variable.\n",
        "\n",
        "Next, let's plot the RMSE values and the regression lines.\n",
        "\n",
        "Regarding the optimization algorithm that sklearn uses to solve linear regression, it uses Ordinary Least Squares (OLS) as the method to fit the data. This is a type of linear least squares method for estimating the unknown parameters in a linear regression model. OLS chooses the parameters of a linear function of a set of explanatory variables by minimizing the sum of the squares of the differences between the target dependent variable and those predicted by the linear function. In other words, it tries to minimize the sum of squared errors.\n",
        "\n",
        "Here are the regression lines for the training, validation, and test sets. The red line represents the model's predictions.\n",
        "\n",
        "In the left column, you can see the data points (blue) and the regression line (red). These plots show how well the linear regression model fits the data.\n",
        "\n",
        "The plots in the right column show the residuals, which are the differences between the observed and predicted values. For a good model, we would expect to see the residuals randomly scattered around the x-axis. If there's any pattern in the residuals, it suggests that our model is not capturing some aspect of the data.\n",
        "\n",
        "In this case, it seems like our model is not capturing all the variance in the data, as reflected by the low R-squared values and relatively high RMSE values we computed earlier. This could potentially be improved with more complex models or feature engineering.\n",
        "\n",
        "In conclusion, the simple linear regression model using the midparent height to predict the child's height provides a rough estimate but does not perfectly capture the relationship in this particular dataset."
      ]
    },
    {
      "cell_type": "code",
      "execution_count": 1,
      "metadata": {
        "id": "3ldrDf4istAZ"
      },
      "outputs": [],
      "source": [
        "import pandas as pd\n",
        "data = pd.read_csv('https://raw.githubusercontent.com/andandandand/DSR_ML_Fundamentals_2023/main/data/input/galton_height.csv');"
      ]
    },
    {
      "cell_type": "code",
      "execution_count": 2,
      "metadata": {
        "colab": {
          "base_uri": "https://localhost:8080/",
          "height": 206
        },
        "id": "WMth_gtZ3CvO",
        "outputId": "4cb8d2bc-e2e9-4c5f-e63b-0ae853a6ee4b"
      },
      "outputs": [
        {
          "data": {
            "text/html": [
              "<div>\n",
              "<style scoped>\n",
              "    .dataframe tbody tr th:only-of-type {\n",
              "        vertical-align: middle;\n",
              "    }\n",
              "\n",
              "    .dataframe tbody tr th {\n",
              "        vertical-align: top;\n",
              "    }\n",
              "\n",
              "    .dataframe thead th {\n",
              "        text-align: right;\n",
              "    }\n",
              "</style>\n",
              "<table border=\"1\" class=\"dataframe\">\n",
              "  <thead>\n",
              "    <tr style=\"text-align: right;\">\n",
              "      <th></th>\n",
              "      <th>family</th>\n",
              "      <th>father</th>\n",
              "      <th>mother</th>\n",
              "      <th>midparentHeight</th>\n",
              "      <th>children</th>\n",
              "      <th>childNum</th>\n",
              "      <th>gender</th>\n",
              "      <th>childHeight</th>\n",
              "    </tr>\n",
              "  </thead>\n",
              "  <tbody>\n",
              "    <tr>\n",
              "      <th>0</th>\n",
              "      <td>1</td>\n",
              "      <td>78.5</td>\n",
              "      <td>67.0</td>\n",
              "      <td>75.43</td>\n",
              "      <td>4</td>\n",
              "      <td>1</td>\n",
              "      <td>male</td>\n",
              "      <td>73.2</td>\n",
              "    </tr>\n",
              "    <tr>\n",
              "      <th>1</th>\n",
              "      <td>1</td>\n",
              "      <td>78.5</td>\n",
              "      <td>67.0</td>\n",
              "      <td>75.43</td>\n",
              "      <td>4</td>\n",
              "      <td>2</td>\n",
              "      <td>female</td>\n",
              "      <td>69.2</td>\n",
              "    </tr>\n",
              "    <tr>\n",
              "      <th>2</th>\n",
              "      <td>1</td>\n",
              "      <td>78.5</td>\n",
              "      <td>67.0</td>\n",
              "      <td>75.43</td>\n",
              "      <td>4</td>\n",
              "      <td>3</td>\n",
              "      <td>female</td>\n",
              "      <td>69.0</td>\n",
              "    </tr>\n",
              "    <tr>\n",
              "      <th>3</th>\n",
              "      <td>1</td>\n",
              "      <td>78.5</td>\n",
              "      <td>67.0</td>\n",
              "      <td>75.43</td>\n",
              "      <td>4</td>\n",
              "      <td>4</td>\n",
              "      <td>female</td>\n",
              "      <td>69.0</td>\n",
              "    </tr>\n",
              "    <tr>\n",
              "      <th>4</th>\n",
              "      <td>2</td>\n",
              "      <td>75.5</td>\n",
              "      <td>66.5</td>\n",
              "      <td>73.66</td>\n",
              "      <td>4</td>\n",
              "      <td>1</td>\n",
              "      <td>male</td>\n",
              "      <td>73.5</td>\n",
              "    </tr>\n",
              "  </tbody>\n",
              "</table>\n",
              "</div>"
            ],
            "text/plain": [
              "  family  father  mother  midparentHeight  children  childNum  gender  \\\n",
              "0      1    78.5    67.0            75.43         4         1    male   \n",
              "1      1    78.5    67.0            75.43         4         2  female   \n",
              "2      1    78.5    67.0            75.43         4         3  female   \n",
              "3      1    78.5    67.0            75.43         4         4  female   \n",
              "4      2    75.5    66.5            73.66         4         1    male   \n",
              "\n",
              "   childHeight  \n",
              "0         73.2  \n",
              "1         69.2  \n",
              "2         69.0  \n",
              "3         69.0  \n",
              "4         73.5  "
            ]
          },
          "execution_count": 2,
          "metadata": {},
          "output_type": "execute_result"
        }
      ],
      "source": [
        "data.head()"
      ]
    },
    {
      "cell_type": "code",
      "execution_count": 10,
      "metadata": {},
      "outputs": [
        {
          "data": {
            "text/plain": [
              "(169.5329175588865, 157.01876873661672)"
            ]
          },
          "execution_count": 10,
          "metadata": {},
          "output_type": "execute_result"
        }
      ],
      "source": [
        "data[['father', 'mother', 'children']].describe()\n",
        "data.father.mean()*2.45, data.mother.mean()*2.45"
      ]
    },
    {
      "cell_type": "code",
      "execution_count": null,
      "metadata": {
        "colab": {
          "base_uri": "https://localhost:8080/"
        },
        "id": "MZ1zBH_j3HVt",
        "outputId": "533f3b3d-32f2-4f6e-d6d3-b5dc596c7efa"
      },
      "outputs": [],
      "source": [
        "from sklearn.model_selection import train_test_split\n",
        "from sklearn.preprocessing import OneHotEncoder\n",
        "from sklearn.compose import ColumnTransformer\n",
        "\n",
        "# Define the features and target\n",
        "# q: how much is the linear regression improving / worsening by including the family column?\n",
        "# this is an experiment for later, we will try using One Hot Encoding for the family (we can compare with not using encoding as well)\n",
        "features = ['father', 'mother', 'midparentHeight', 'children', 'childNum', 'gender']\n",
        "target = ['childHeight']\n",
        "\n",
        "# Split the data into a training set and a temporary set using 70:30 ratio\n",
        "train_set, temp_set, y_train, y_temp = train_test_split(data[features], data[target], test_size=0.3, random_state=0)\n",
        "\n",
        "# Split the temporary set into a validation set and a testing set using 50:50 ratio\n",
        "val_set, test_set, y_val, y_test = train_test_split(temp_set, y_temp, test_size=0.5, random_state=0)\n",
        "\n",
        "# Initialize a one-hot encoder\n",
        "encoder = OneHotEncoder(drop='first')\n",
        "\n",
        "# Create a column transformer\n",
        "ct = ColumnTransformer(transformers=[('encoder', encoder, ['gender'])], remainder='passthrough')\n",
        "\n",
        "# Fit and transform the column transformer to the training set\n",
        "train_set = ct.fit_transform(train_set)\n",
        "\n",
        "# Transform the column transformer to the validation and testing sets\n",
        "val_set = ct.transform(val_set)\n",
        "test_set = ct.transform(test_set)\n",
        "\n",
        "# Display the transformed data\n",
        "train_set, val_set, test_set"
      ]
    },
    {
      "cell_type": "code",
      "execution_count": null,
      "metadata": {
        "colab": {
          "base_uri": "https://localhost:8080/",
          "height": 563
        },
        "id": "dLDUa_813VyX",
        "outputId": "9e79ac56-aa84-4703-f098-bea4262907b3"
      },
      "outputs": [
        {
          "data": {
            "image/png": "[encoded data removed]",
            "text/plain": [
              "<Figure size 1000x600 with 1 Axes>"
            ]
          },
          "metadata": {},
          "output_type": "display_data"
        },
        {
          "data": {
            "text/plain": [
              "(1.9812012365033553, 1.8249621456525622, 1.937242967902563)"
            ]
          },
          "execution_count": 9,
          "metadata": {},
          "output_type": "execute_result"
        }
      ],
      "source": [
        "from sklearn.linear_model import LinearRegression\n",
        "from sklearn.metrics import mean_squared_error\n",
        "import matplotlib.pyplot as plt\n",
        "import numpy as np\n",
        "\n",
        "# Initialize the model\n",
        "model = LinearRegression()\n",
        "\n",
        "# Fit the model to the training data\n",
        "model.fit(train_set, y_train)\n",
        "\n",
        "# Make predictions\n",
        "train_preds = model.predict(train_set)\n",
        "val_preds = model.predict(val_set)\n",
        "test_preds = model.predict(test_set)\n",
        "\n",
        "# Calculate RMSE for train, val, and test\n",
        "train_rmse = np.sqrt(mean_squared_error(y_train, train_preds))\n",
        "val_rmse = np.sqrt(mean_squared_error(y_val, val_preds))\n",
        "test_rmse = np.sqrt(mean_squared_error(y_test, test_preds))\n",
        "\n",
        "# Plot RMSE\n",
        "plt.figure(figsize=(10, 6))\n",
        "plt.bar(['Train', 'Validation', 'Test'], [train_rmse, val_rmse, test_rmse])\n",
        "plt.ylabel('RMSE')\n",
        "plt.title('Root Mean Squared Error (RMSE) for Train, Validation, and Test Sets')\n",
        "plt.show()\n",
        "\n",
        "# Display RMSE\n",
        "train_rmse, val_rmse, test_rmse\n"
      ]
    }
  ],
  "metadata": {
    "colab": {
      "provenance": []
    },
    "kernelspec": {
      "display_name": "Python 3",
      "name": "python3"
    },
    "language_info": {
      "codemirror_mode": {
        "name": "ipython",
        "version": 3
      },
      "file_extension": ".py",
      "mimetype": "text/x-python",
      "name": "python",
      "nbconvert_exporter": "python",
      "pygments_lexer": "ipython3",
      "version": "3.10.11"
    }
  },
  "nbformat": 4,
  "nbformat_minor": 0
}
