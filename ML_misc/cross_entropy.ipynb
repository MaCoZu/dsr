{
 "cells": [
  {
   "cell_type": "code",
   "execution_count": 1,
   "metadata": {},
   "outputs": [],
   "source": [
    "import numpy as np\n",
    "import matplotlib.pyplot as plt"
   ]
  },
  {
   "cell_type": "markdown",
   "metadata": {},
   "source": [
    "# Entropy:\n",
    "\n",
    "Entropy is a measure of the average amount of randomness or unpredictability (information) in a set of data. In terms of probabilities, it can be considered as a measure of uncertainty associated with the outcomes of a random variable.\n",
    "\n",
    "In the context of machine learning, entropy is often used as a measure of impurity or disorder in decision trees and random forests. It helps determine the optimal splits during tree construction.\n",
    "\n",
    "For example: a skewed probability distribution has less “surprise” and in turn a low entropy because likely events dominate. Balanced distribution are more surprising and turn have higher entropy because events are equally likely.\n",
    "\n",
    "- Skewed Probability Distribution (unsurprising): $\\rarr$  Low entropy.\n",
    "- Balanced Probability Distribution (surprising): $\\rarr$ High entropy.\n",
    "\n",
    "\n",
    "\n",
    "The entropy $H(X)$ of a discrete RV with PMF $P(X)$ is:<br>\n",
    "\n",
    "$H(X) = - ∑ [ P(x_i) * log_2 P(x_i) ]$  for  all  $i$"
   ]
  },
  {
   "cell_type": "code",
   "execution_count": 5,
   "metadata": {},
   "outputs": [],
   "source": [
    "# We will define a function `calculate_entropy` that takes a \n",
    "# probability distribution and calculates its entropy.\n",
    "\n",
    "def calculate_entropy(probs):\n",
    "    return -np.sum(probs * np.log2(probs))"
   ]
  },
  {
   "cell_type": "code",
   "execution_count": null,
   "metadata": {},
   "outputs": [],
   "source": [
    "## Entropy of a Biased Coin\n",
    "# We will analyze a biased coin with varying probabilities for heads (H) and tails (T).\n",
    "\n",
    "prob_heads = np.linspace(0.01, 0.99, 100)\n",
    "entropies = [calculate_entropy(np.array([p, 1-p])) for p in prob_heads] # p = head | 1-p = tails\n",
    "plt.plot(prob_heads, entropies)\n",
    "plt.xlabel('P(Heads)')\n",
    "plt.ylabel('Entropy')\n",
    "plt.title('Entropy of a Biased Coin')\n",
    "plt.grid(True)\n",
    "plt.show()"
   ]
  },
  {
   "cell_type": "markdown",
   "metadata": {},
   "source": [
    "# Cross-Entropy\n",
    "\n",
    "\n",
    "Cross-entropy is a measure of the difference between two probability distributions.<br>\n",
    "It compares the predicted probabilities with the true (target) probabilities.\n",
    "\n",
    "In classification tasks, it provides a measure of how well the predicted probabilities align with the actual labels.\n",
    "\n",
    "\n",
    "The cross-entropy $H(P, Q)$ between two probability distributions $P$ and $Q$ is:<br>\n",
    "\n",
    "$H(P, Q) = - ∑ [ P(x_i) * log_2 Q(x_i) ]$ for all $i$"
   ]
  },
  {
   "cell_type": "code",
   "execution_count": null,
   "metadata": {},
   "outputs": [],
   "source": [
    "# The function `calculate_cross_entropy` that takes two probability distributions \n",
    "# and calculates their cross-entropy.\n",
    "\n",
    "def calculate_cross_entropy(probs_P, probs_Q):\n",
    "    return -np.sum(probs_P * np.log2(probs_Q))"
   ]
  },
  {
   "cell_type": "code",
   "execution_count": null,
   "metadata": {},
   "outputs": [],
   "source": [
    "# Cross-Entropy of a Biased Coin\n",
    "# We will compare two different biased coins: one where \n",
    "# P(H) = 0.5 (fair coin) and one where \n",
    "# P(H) = 0.6 (biased coin).\n",
    "\n",
    "prob_heads_p = 0.5\n",
    "prob_heads_q = np.linspace(0.01, 0.99, 100)\n",
    "cross_entropies = [calculate_cross_entropy(np.array([prob_heads_p, 1 - prob_heads_p]), \n",
    "                                           np.array([prob_heads_q_i, 1 - prob_heads_q_i])) for prob_heads_q_i in prob_heads_q]\n",
    "plt.plot(prob_heads_q, cross_entropies)\n",
    "plt.xlabel('P(Heads) for Q')\n",
    "plt.ylabel('Cross-Entropy H(P, Q)')\n",
    "plt.title('Cross-Entropy for Biased Coins')\n",
    "plt.grid(True)\n",
    "plt.show()"
   ]
  },
  {
   "cell_type": "markdown",
   "metadata": {},
   "source": [
    "# 8. Understanding the Role of Logarithms\n",
    "The logarithm function plays a critical role in the calculation of entropy and cross-entropy. <br>\n",
    "It allows us to penalize large deviations from the true probability and to handle probabilities that range from 0 to 1.<br>\n",
    "Here is a plot of the log function in the domain $(0,1]$:"
   ]
  },
  {
   "cell_type": "code",
   "execution_count": 11,
   "metadata": {},
   "outputs": [
    {
     "data": {
      "image/png": "[encoded data removed]",
      "text/plain": [
       "<Figure size 640x480 with 1 Axes>"
      ]
     },
     "metadata": {},
     "output_type": "display_data"
    }
   ],
   "source": [
    "x_values = np.linspace(0.01, 1, 100)\n",
    "y_values = np.log2(x_values)\n",
    "plt.plot(x_values, y_values)\n",
    "plt.xlabel('x')\n",
    "plt.ylabel('log2(x)')\n",
    "plt.title('Plot of $log_2(x)$')\n",
    "plt.grid(True)\n",
    "plt.show()"
   ]
  },
  {
   "cell_type": "markdown",
   "metadata": {},
   "source": [
    "Remember that the $log_2(x)$ function is negative for $0 < x < 1$, and it becomes increasingly <br>\n",
    "negative as x approaches 0. Therefore, in the entropy and cross-entropy calculations, <br>\n",
    "smaller probabilities result in larger (in magnitude) negative terms. As a result, <br>\n",
    "distributions that place large probabilities on incorrect outcomes are heavily penalized. <br>"
   ]
  },
  {
   "cell_type": "code",
   "execution_count": 23,
   "metadata": {},
   "outputs": [
    {
     "data": {
      "text/plain": [
       "63.11663380285989"
      ]
     },
     "execution_count": 23,
     "metadata": {},
     "output_type": "execute_result"
    }
   ],
   "source": [
    "# negative log likelihood\n",
    "-np.log2(10000000000000000)\n",
    "-np.log2(0.0000000000000000001)"
   ]
  },
  {
   "cell_type": "code",
   "execution_count": null,
   "metadata": {},
   "outputs": [],
   "source": [
    "https://towardsdatascience.com/understanding-binary-cross-entropy-log-loss-a-visual-explanation-a3ac6025181a"
   ]
  },
  {
   "cell_type": "code",
   "execution_count": null,
   "metadata": {},
   "outputs": [],
   "source": [
    "x = [-2.2, -1.4, -0.8, 0.2, 0.4, 0.8, 1.2, 2.2, 2.9, 4.6]\n",
    "\n"
   ]
  }
 ],
 "metadata": {
  "kernelspec": {
   "display_name": "dsr_b35",
   "language": "python",
   "name": "python3"
  },
  "language_info": {
   "codemirror_mode": {
    "name": "ipython",
    "version": 3
   },
   "file_extension": ".py",
   "mimetype": "text/x-python",
   "name": "python",
   "nbconvert_exporter": "python",
   "pygments_lexer": "ipython3",
   "version": "3.10.11"
  },
  "orig_nbformat": 4
 },
 "nbformat": 4,
 "nbformat_minor": 2
}
