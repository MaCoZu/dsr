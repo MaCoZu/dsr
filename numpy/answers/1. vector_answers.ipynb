{
 "cells": [
  {
   "cell_type": "code",
   "execution_count": 1,
   "metadata": {},
   "outputs": [],
   "source": [
    "import sys\n",
    "import numpy as np\n",
    "import pandas as pd\n",
    "import matplotlib.pyplot as plt"
   ]
  },
  {
   "attachments": {},
   "cell_type": "markdown",
   "metadata": {},
   "source": [
    "# Vectors\n",
    "\n",
    "This notebook uses many images from the excellent [A Visual Intro to NumPy and Data Representation](https://jalammar.github.io/visual-numpy/) from [Jay Alammar](https://jalammar.github.io/).\n",
    "\n",
    "## Axes\n",
    "\n",
    "Axes == dimension\n",
    "\n",
    "i.e. three axes == three dimensions\n",
    "\n",
    "## Scalars, vectors, matricies and tensors\n",
    "\n",
    "See Chapter 2 of [Deep Learning](https://www.deeplearningbook.org/).\n",
    "\n",
    "Being specific about how we use these terms (there is no solid concensus - many people (including me) will use array and/or tensor).\n",
    "\n",
    "### Scalar\n",
    "\n",
    "$\\textit{x}$\n",
    "\n",
    "- single number\n",
    "- lowercase, italic $\\textit{x}$\n",
    "- point\n",
    "\n",
    "### Vector\n",
    "\n",
    "$\\textbf{x} = \\begin{bmatrix}x_{1} \\\\ x_{2} \\\\ \\vdots \\\\ x_{n} \\end{bmatrix}$\n",
    "\n",
    "- array of $n$ numbers\n",
    "- lowercase, bold \n",
    "- $x_{1}$ = first element\n",
    "- line\n",
    "\n",
    "### Matrix\n",
    "\n",
    "$\\textbf{A}_{2, 2} = \\begin{bmatrix}A_{1, 1} & A_{1, 2} \\\\ A_{2, 1} & A_{2, 2}\\end{bmatrix}$\n",
    "\n",
    "- two dimensional\n",
    "- uppercase, bold $\\textbf{A}_{m, n}$\n",
    "- $A_{1, 1}$ = first element\n",
    "- area\n",
    "\n",
    "### Tensor\n",
    "\n",
    "- n-dimensional\n",
    "- 3 = volume\n",
    "- uppercase, bold $\\textbf{A}_{i,j,k}$\n",
    "\n",
    "## When `numpy`\n",
    "\n",
    "Linear algebra, non-tabular data processing, deep learning\n",
    "\n",
    "## When *NOT* `numpy`\n",
    "Tabular data, data analysis \n",
    "\n",
    "Pandas sits on top of `numpy`:"
   ]
  },
  {
   "cell_type": "code",
   "execution_count": 2,
   "metadata": {},
   "outputs": [
    {
     "data": {
      "text/plain": [
       "array([[1],\n",
       "       [2]])"
      ]
     },
     "execution_count": 2,
     "metadata": {},
     "output_type": "execute_result"
    }
   ],
   "source": [
    "pd.DataFrame([1, 2]).values"
   ]
  },
  {
   "attachments": {},
   "cell_type": "markdown",
   "metadata": {},
   "source": [
    "## What is `numpy`\n",
    "\n",
    "Library for working with n-dimensional data\n",
    "- **store and operate on data using C structures**\n",
    "\n",
    "<img src=\"../assets/c.png\" alt=\"\" width=\"350\"/>\n",
    "\n",
    "## Why `numpy`\n",
    "\n",
    "Functionality - There is nothing that cannot be done with python lists that can be done with numpy arrays. It is sometimes just nicer to use\n",
    "- vector, matrix & tensor operations\n",
    "\n",
    "Uses less memory\n",
    "- fixed data types (can also be a drawback)\n",
    "\n",
    "Speed\n",
    "- fixed data types (benefit from static typing)\n",
    "- C implementation\n",
    "\n",
    "Below we implement a sum operation using a Python loop:"
   ]
  },
  {
   "cell_type": "code",
   "execution_count": 3,
   "metadata": {},
   "outputs": [
    {
     "name": "stdout",
     "output_type": "stream",
     "text": [
      "2.29 s ± 29 ms per loop (mean ± std. dev. of 7 runs, 1 loop each)\n"
     ]
    }
   ],
   "source": [
    "def loop(left, right):\n",
    "    data = np.zeros(left.shape[0])\n",
    "    for i in range(data.shape[0]):\n",
    "        data[i] = left[i] + right[i]\n",
    "    return data\n",
    "\n",
    "left = np.arange(10000000)\n",
    "right = np.arange(10000000)\n",
    "\n",
    "#  excuse the horrbile hack here\n",
    "#  want to always print the time in seconds\n",
    "%timeit loop(left, right)"
   ]
  },
  {
   "attachments": {},
   "cell_type": "markdown",
   "metadata": {},
   "source": [
    "Now lets try it using `numpy` addition:"
   ]
  },
  {
   "cell_type": "code",
   "execution_count": 4,
   "metadata": {},
   "outputs": [
    {
     "name": "stdout",
     "output_type": "stream",
     "text": [
      "15.2 ms ± 133 µs per loop (mean ± std. dev. of 7 runs, 100 loops each)\n"
     ]
    }
   ],
   "source": [
    "%timeit left + right"
   ]
  },
  {
   "attachments": {},
   "cell_type": "markdown",
   "metadata": {},
   "source": [
    "Numpy arrays also take way less storage compared to python lists, consider that example:"
   ]
  },
  {
   "cell_type": "code",
   "execution_count": 5,
   "metadata": {},
   "outputs": [
    {
     "name": "stdout",
     "output_type": "stream",
     "text": [
      "Storage size of python lists is 3.5 times bigger than numpy arrays\n"
     ]
    }
   ],
   "source": [
    "py_arr = [1,2,3,4,5,6] # Normal python list\n",
    "numpy_arr = np.array([1,2,3,4,5,6]) # Numpy array \n",
    "\n",
    "sizeof_py_arr = sys.getsizeof(1) * len(py_arr)           # Calculating size for python list\n",
    "sizeof_numpy_arr = numpy_arr.itemsize * numpy_arr.size   # Calculating size for numpy array\n",
    "\n",
    "# Printing the ratio of python list to numpy array\n",
    "print(\"Storage size of python lists is \" + str(sizeof_py_arr / sizeof_numpy_arr) + \" times bigger than numpy arrays\")\n"
   ]
  },
  {
   "attachments": {},
   "cell_type": "markdown",
   "metadata": {},
   "source": [
    "Note that not only is `numpy` quicker, it is **more readable**!\n",
    "\n",
    "The reason that `numpy` is faster is **vectorization**\n",
    "- running multiple operations from a single instruction\n",
    "\n",
    "Many CPU's have operation that run in parallel (modern x86 chips have the SSE instructions)\n",
    "\n",
    "Vectorization is\n",
    "- the process of rewriting a loop \n",
    "- instead of processing a single element of an array N times\n",
    "- it processes 4 elements of the array simultaneously N/4 times"
   ]
  },
  {
   "attachments": {},
   "cell_type": "markdown",
   "metadata": {},
   "source": [
    "## `list` versus `np.array`\n",
    "\n",
    "Python list\n",
    "- general-purpose container - can hold different data types\n",
    "- support (fairly) efficient insertion, deletion, appending, and concatenation\n",
    "- list comprehensions make them easy to construct and manipulate\n",
    "- only a few list operations can be carried out in C (because of the need for type checking)\n",
    "- the list holds pointers to items scattered across memory\n",
    "\n",
    "Numpy array\n",
    "- **only one data type**\n",
    "- less flexible\n",
    "- vectorized operations\n",
    "- fixed size\n",
    "- data in one place in memory\n",
    "\n",
    "Only holding one data type means that numpy can efficiently store data in memory\n",
    "\n",
    "A list doesn't know what the next object will be - this makes storing it in memory challenging\n",
    "\n",
    "```python\n",
    "[0, 1.0, '2.0']\n",
    "```\n",
    "\n",
    "We can make an array from a list - `numpy` will make assumptions about what datatype the array should hold:"
   ]
  },
  {
   "cell_type": "code",
   "execution_count": 6,
   "metadata": {},
   "outputs": [
    {
     "data": {
      "text/plain": [
       "array([ 3., 20.,  0.])"
      ]
     },
     "execution_count": 6,
     "metadata": {},
     "output_type": "execute_result"
    }
   ],
   "source": [
    "# the integer 10 is converted to a float\n",
    "a = np.array([10, 20.0, 0])\n",
    "a[0] = 3\n",
    "a"
   ]
  },
  {
   "attachments": {},
   "cell_type": "markdown",
   "metadata": {},
   "source": [
    "We can see the data type by accessing the `.dtype` attribute:"
   ]
  },
  {
   "cell_type": "code",
   "execution_count": null,
   "metadata": {},
   "outputs": [],
   "source": [
    "a.dtype"
   ]
  },
  {
   "attachments": {},
   "cell_type": "markdown",
   "metadata": {},
   "source": [
    "We can change the datatype of an array:"
   ]
  },
  {
   "cell_type": "code",
   "execution_count": 7,
   "metadata": {},
   "outputs": [
    {
     "data": {
      "text/plain": [
       "array([10, 20])"
      ]
     },
     "execution_count": 7,
     "metadata": {},
     "output_type": "execute_result"
    }
   ],
   "source": [
    "np.array([10, 20.0]).astype(\"int\")"
   ]
  },
  {
   "attachments": {},
   "cell_type": "markdown",
   "metadata": {},
   "source": [
    "Note that changing the datatype will by default create a newly allocated array (new location in memory) - you can control this using a an argument:"
   ]
  },
  {
   "cell_type": "code",
   "execution_count": 8,
   "metadata": {},
   "outputs": [
    {
     "data": {
      "text/plain": [
       "array([10, 20])"
      ]
     },
     "execution_count": 8,
     "metadata": {},
     "output_type": "execute_result"
    }
   ],
   "source": [
    "np.array([10, 20.0], copy=False).astype(\"int\")"
   ]
  },
  {
   "attachments": {},
   "cell_type": "markdown",
   "metadata": {},
   "source": [
    "We can see the number of elements in an array:"
   ]
  },
  {
   "cell_type": "code",
   "execution_count": 9,
   "metadata": {},
   "outputs": [
    {
     "data": {
      "text/plain": [
       "2"
      ]
     },
     "execution_count": 9,
     "metadata": {},
     "output_type": "execute_result"
    }
   ],
   "source": [
    "np.array([10, 20.0]).size"
   ]
  },
  {
   "attachments": {},
   "cell_type": "markdown",
   "metadata": {},
   "source": [
    "For a vector the size will be the same as the shape:"
   ]
  },
  {
   "cell_type": "code",
   "execution_count": 10,
   "metadata": {},
   "outputs": [
    {
     "data": {
      "text/plain": [
       "(2,)"
      ]
     },
     "execution_count": 10,
     "metadata": {},
     "output_type": "execute_result"
    }
   ],
   "source": [
    "np.array([10, 20.0]).shape"
   ]
  },
  {
   "attachments": {},
   "cell_type": "markdown",
   "metadata": {},
   "source": [
    "We can also get the number of elements in a vector using the Python bulitin `len`:"
   ]
  },
  {
   "cell_type": "code",
   "execution_count": 4,
   "metadata": {},
   "outputs": [
    {
     "data": {
      "text/plain": [
       "2"
      ]
     },
     "execution_count": 4,
     "metadata": {},
     "output_type": "execute_result"
    }
   ],
   "source": [
    "len(np.array([10, 20.0]))"
   ]
  },
  {
   "attachments": {},
   "cell_type": "markdown",
   "metadata": {},
   "source": [
    "## Vectors\n",
    "\n",
    "$\\begin{bmatrix}x_{1} & x_{2} & \\cdots & x_{n} \\end{bmatrix}$\n",
    "\n",
    "- array of $n$ numbers\n",
    "- lowercase, bold $\\textbf{x}$\n",
    "- $x_{1}$ = first element\n",
    "- line"
   ]
  },
  {
   "attachments": {},
   "cell_type": "markdown",
   "metadata": {},
   "source": [
    "We can visualize a vector as a line:"
   ]
  },
  {
   "cell_type": "code",
   "execution_count": 11,
   "metadata": {},
   "outputs": [
    {
     "data": {
      "text/plain": [
       "array([4, 6, 8, 8, 6, 4])"
      ]
     },
     "execution_count": 11,
     "metadata": {},
     "output_type": "execute_result"
    }
   ],
   "source": [
    "data = np.array([4, 6, 8, 8, 6, 4])\n",
    "data"
   ]
  },
  {
   "attachments": {},
   "cell_type": "markdown",
   "metadata": {},
   "source": [
    "## Vector Arithmetic\n",
    "\n",
    "In Python when we add iterables together they are joined:"
   ]
  },
  {
   "cell_type": "code",
   "execution_count": 6,
   "metadata": {},
   "outputs": [
    {
     "data": {
      "text/plain": [
       "[0, 1, 2, 1]"
      ]
     },
     "execution_count": 6,
     "metadata": {},
     "output_type": "execute_result"
    }
   ],
   "source": [
    "[0, 1, 2] + [1]"
   ]
  },
  {
   "attachments": {},
   "cell_type": "markdown",
   "metadata": {},
   "source": [
    "`numpy` works differently - addition works **element wise**:\n",
    "\n",
    "<img src=\"../assets/add.png\" alt=\"\" width=\"300\"/>"
   ]
  },
  {
   "cell_type": "code",
   "execution_count": 12,
   "metadata": {},
   "outputs": [
    {
     "data": {
      "text/plain": [
       "array([2, 3])"
      ]
     },
     "execution_count": 12,
     "metadata": {},
     "output_type": "execute_result"
    }
   ],
   "source": [
    "np.array([1, 2]) + np.array([1, 1])"
   ]
  },
  {
   "attachments": {},
   "cell_type": "markdown",
   "metadata": {},
   "source": [
    "All of the logic above holds for subtraction, multiplication etc:"
   ]
  },
  {
   "cell_type": "code",
   "execution_count": 13,
   "metadata": {},
   "outputs": [
    {
     "data": {
      "text/plain": [
       "array([-1,  0,  1])"
      ]
     },
     "execution_count": 13,
     "metadata": {},
     "output_type": "execute_result"
    }
   ],
   "source": [
    "np.array([0, 1, 2]) - np.array([1])"
   ]
  },
  {
   "cell_type": "code",
   "execution_count": null,
   "metadata": {},
   "outputs": [],
   "source": [
    "np.array([0, 1, 2]) * np.array([2])"
   ]
  },
  {
   "attachments": {},
   "cell_type": "markdown",
   "metadata": {},
   "source": [
    "Common problem to multiply every number of a list with a scalar represents way more work using lists compared to np arrays"
   ]
  },
  {
   "cell_type": "code",
   "execution_count": null,
   "metadata": {},
   "outputs": [],
   "source": [
    "my_array = np.array([1, 2, 3]) # numpy array\n",
    "my_list = [1, 2, 3] # python list\n",
    "\n",
    "array_double = np_array * 2 # doubling the numpy array\n",
    "list_double = [(i*2) for i in my_list] #doubling the list"
   ]
  },
  {
   "attachments": {},
   "cell_type": "markdown",
   "metadata": {},
   "source": [
    "Next to vector summing, of course it is also possible to take the product"
   ]
  },
  {
   "cell_type": "code",
   "execution_count": 17,
   "metadata": {},
   "outputs": [
    {
     "data": {
      "text/plain": [
       "24"
      ]
     },
     "execution_count": 17,
     "metadata": {},
     "output_type": "execute_result"
    }
   ],
   "source": [
    "array_1 = np.array([2, 4, 3])\n",
    "np.prod(array_1)"
   ]
  },
  {
   "attachments": {},
   "cell_type": "markdown",
   "metadata": {},
   "source": [
    "## Broadcasting\n",
    "\n",
    "The smaller array will be broadcast across the larger array\n",
    "\n",
    "<img src=\"../assets/broad.png\" alt=\"\" width=\"300\"/>"
   ]
  },
  {
   "cell_type": "code",
   "execution_count": 18,
   "metadata": {},
   "outputs": [
    {
     "data": {
      "text/plain": [
       "array([2.6, 3.6])"
      ]
     },
     "execution_count": 18,
     "metadata": {},
     "output_type": "execute_result"
    }
   ],
   "source": [
    "np.array([1, 2]) + np.array([1.6])"
   ]
  },
  {
   "attachments": {},
   "cell_type": "markdown",
   "metadata": {},
   "source": [
    "Note how different adding lists together is:"
   ]
  },
  {
   "cell_type": "code",
   "execution_count": 19,
   "metadata": {},
   "outputs": [
    {
     "data": {
      "text/plain": [
       "[1, 2, 1.6]"
      ]
     },
     "execution_count": 19,
     "metadata": {},
     "output_type": "execute_result"
    }
   ],
   "source": [
    "[1, 2] + [1.6]"
   ]
  },
  {
   "attachments": {},
   "cell_type": "markdown",
   "metadata": {},
   "source": [
    "Broadcasting is important because the larger array **keep its shape**\n",
    "- matrix multiplication (ie dot products) often result in differently shaped arrays"
   ]
  },
  {
   "attachments": {},
   "cell_type": "markdown",
   "metadata": {},
   "source": [
    "## Working in a single dimension\n",
    "\n",
    "Vectors - flat lists\n",
    "\n",
    "### Indexing\n",
    "\n",
    "<img src=\"../assets/idx.png\" alt=\"\" width=\"500\"/>\n",
    "\n",
    "### Aggregation\n",
    "\n",
    "<img src=\"../assets/agg.png\" alt=\"\" width=\"800\"/>"
   ]
  },
  {
   "attachments": {},
   "cell_type": "markdown",
   "metadata": {},
   "source": [
    "## Practical \n",
    "\n",
    "Calculate the absolute difference between the sum of squared numbers between 1 and 100 and the square of their sum, once in pure python and with numpy arrays: \n",
    "$$ |(1^2 + 2^2 + 3^2 + ...) - (1 + 2 + 3 + ...)^2|$$ \n"
   ]
  },
  {
   "attachments": {},
   "cell_type": "markdown",
   "metadata": {},
   "source": [
    "### Pure python:"
   ]
  },
  {
   "cell_type": "code",
   "execution_count": 34,
   "metadata": {},
   "outputs": [
    {
     "data": {
      "text/plain": [
       "25164150"
      ]
     },
     "execution_count": 34,
     "metadata": {},
     "output_type": "execute_result"
    }
   ],
   "source": [
    "range_ = range(1, 101)\n",
    "abs(sum([x**2 for x in range_]) - sum(range_)**2)"
   ]
  },
  {
   "attachments": {},
   "cell_type": "markdown",
   "metadata": {},
   "source": [
    "### Numpy array"
   ]
  },
  {
   "cell_type": "code",
   "execution_count": 37,
   "metadata": {},
   "outputs": [
    {
     "data": {
      "text/plain": [
       "25164150"
      ]
     },
     "execution_count": 37,
     "metadata": {},
     "output_type": "execute_result"
    }
   ],
   "source": [
    "range_ = np.arange(1, 101)\n",
    "abs(np.square(range_).sum() - np.sum(range_)**2)"
   ]
  },
  {
   "attachments": {},
   "cell_type": "markdown",
   "metadata": {},
   "source": [
    "## Answers:\n",
    "You are encouraged to look at the solutions after you gave it a serious try "
   ]
  },
  {
   "cell_type": "code",
   "execution_count": 27,
   "metadata": {},
   "outputs": [
    {
     "data": {
      "text/plain": [
       "25164150"
      ]
     },
     "execution_count": 27,
     "metadata": {},
     "output_type": "execute_result"
    }
   ],
   "source": [
    "def purepython():\n",
    "    list100 = list(range(100 + 1)) # Initiating the list\n",
    "\n",
    "    sum_squared = (sum(list100))**2 # Taking the sum of all numbers and the square that sum\n",
    "    squared_sum = sum([i**2 for i in list100]) # Taking the square of all numbers and then sum\n",
    "\n",
    "    list_answer = abs(squared_sum - sum_squared) # Taking the difference\n",
    "    return list_answer\n",
    "\n",
    "purepython()"
   ]
  },
  {
   "cell_type": "code",
   "execution_count": 26,
   "metadata": {},
   "outputs": [
    {
     "data": {
      "text/plain": [
       "25164150"
      ]
     },
     "execution_count": 26,
     "metadata": {},
     "output_type": "execute_result"
    }
   ],
   "source": [
    "def numpyarray():\n",
    "    list100 = np.arange(100 + 1) # Initiating the numpy array\n",
    "\n",
    "    sum_squared = np.sum(np.square(list100))\n",
    "    squared_sum = np.square(np.sum(list100))\n",
    "\n",
    "    list_answer = abs(squared_sum - sum_squared)\n",
    "    return list_answer\n",
    "\n",
    "numpyarray()"
   ]
  },
  {
   "attachments": {},
   "cell_type": "markdown",
   "metadata": {},
   "source": [
    "## Making vectors\n",
    "\n",
    "`np.arange` - similar to the Python builtin `range`"
   ]
  },
  {
   "cell_type": "code",
   "execution_count": null,
   "metadata": {},
   "outputs": [],
   "source": [
    "np.arange(start=0, stop=10, step=2)"
   ]
  },
  {
   "attachments": {},
   "cell_type": "markdown",
   "metadata": {},
   "source": [
    "`np.linspace` - evenly spaced between two points"
   ]
  },
  {
   "cell_type": "code",
   "execution_count": null,
   "metadata": {},
   "outputs": [],
   "source": [
    "np.linspace(0, 100, 15)"
   ]
  },
  {
   "attachments": {},
   "cell_type": "markdown",
   "metadata": {},
   "source": [
    "## Sampling random uniform\n",
    "\n",
    "This can be done two ways\n",
    "- `np.random.random`\n",
    "- `np.random.rand`\n",
    "\n",
    "Only difference is the shape argument is not a tuple\n",
    "- saves writing the brackets\n",
    "\n",
    "Sample uniformly across the interval [0, 1)"
   ]
  },
  {
   "cell_type": "code",
   "execution_count": 38,
   "metadata": {},
   "outputs": [
    {
     "data": {
      "text/plain": [
       "array([[0.07949426, 0.30983383, 0.08032927, 0.87142762],\n",
       "       [0.13088076, 0.10943848, 0.64832554, 0.01298865]])"
      ]
     },
     "execution_count": 38,
     "metadata": {},
     "output_type": "execute_result"
    }
   ],
   "source": [
    "# shape define as a tuple\n",
    "np.random.random((2, 4))"
   ]
  },
  {
   "cell_type": "code",
   "execution_count": null,
   "metadata": {},
   "outputs": [],
   "source": [
    "# shape define as *args\n",
    "np.random.rand(2, 4)"
   ]
  },
  {
   "attachments": {},
   "cell_type": "markdown",
   "metadata": {},
   "source": [
    "## Sample from a standard normal\n",
    "\n",
    "A standard normal distribution refers to a specific type of distribution with a mean of zero and a standard deviation of one. It is a specific instance of a Gaussian distribution, also known as a normal distribution. The standard normal distribution is commonly denoted by the letter \"Z,\" and its probability density function (PDF) is given by the formula:\n",
    "\n",
    "$f(x) = \\frac{1}{√(2π)} * e^{(-x^2/2)}$\n",
    "\n",
    "`np.random.randn`\n",
    "\n",
    "$\\mathcal{N}(0,1)$"
   ]
  },
  {
   "cell_type": "code",
   "execution_count": null,
   "metadata": {},
   "outputs": [],
   "source": [
    "np.random.randn(2, 4)"
   ]
  },
  {
   "attachments": {},
   "cell_type": "markdown",
   "metadata": {},
   "source": [
    "## Sample from a Gaussian\n",
    "\n",
    "On the other hand, the \"Gaussian distribution\" or \"normal distribution\" is more general and can refer to any distribution that follows a specific shape known as the bell curve or Gaussian curve. A Gaussian distribution is characterized by its mean (μ) and standard deviation (σ), which can take any numerical values. The PDF of a Gaussian distribution is given by the formula:\n",
    "\n",
    "$f(x) = \\frac{1}{(σ√(2π))} * e^{\\frac{-(x-μ)^2}{(2σ^2)}}$\n",
    "\n",
    "`np.random.normal`\n",
    "\n",
    "$\\mathcal{N}(\\mu,\\sigma)$\n",
    "\n",
    "We choose the statistics (mean & standard deviation)"
   ]
  },
  {
   "cell_type": "code",
   "execution_count": 39,
   "metadata": {},
   "outputs": [
    {
     "data": {
      "text/plain": [
       "array([[ 3.41063085,  0.48517141,  2.88629678, -2.4270739 ],\n",
       "       [ 0.14843287, -0.101858  ,  1.12227423,  0.92323972]])"
      ]
     },
     "execution_count": 39,
     "metadata": {},
     "output_type": "execute_result"
    }
   ],
   "source": [
    "np.random.normal(1, 2, size=(2, 4))"
   ]
  },
  {
   "attachments": {},
   "cell_type": "markdown",
   "metadata": {},
   "source": [
    "## Changing order of a numpy array\n",
    "In case the order of the array is desired to be reversed, there are intuitive commands for that"
   ]
  },
  {
   "cell_type": "code",
   "execution_count": 7,
   "metadata": {},
   "outputs": [
    {
     "data": {
      "text/plain": [
       "matrix([[4, 3, 2, 1]])"
      ]
     },
     "execution_count": 7,
     "metadata": {},
     "output_type": "execute_result"
    }
   ],
   "source": [
    "array_2 = np.matrix([[1, 2, 3, 4]])\n",
    "np.fliplr(array_2)"
   ]
  },
  {
   "attachments": {},
   "cell_type": "markdown",
   "metadata": {},
   "source": [
    "# Practical: Finding the biggest product"
   ]
  },
  {
   "attachments": {},
   "cell_type": "markdown",
   "metadata": {},
   "source": [
    "In the 20×20 grid below, four numbers along a diagonal line have been marked in red.\n",
    "\n",
    "<img src=\"../assets/number.png\" alt=\"\" width=\"500\"/>\n",
    "\n",
    "The product of these numbers is 26 × 63 × 78 × 14 = 1788696.\n",
    "\n",
    "What is the greatest product of four adjacent numbers in the same direction (up, down, left, right, or diagonally) in the 20×20 grid?"
   ]
  },
  {
   "cell_type": "code",
   "execution_count": 19,
   "metadata": {},
   "outputs": [
    {
     "data": {
      "text/plain": [
       "array([[ 75,  95,  41,  30,  53,  90,  45,  46,  98,  16,  98,  65,  52,\n",
       "         72,  67,  91,  72,  21,  74,  80],\n",
       "       [ 66,   6,  64,  58,  85,  65,  16,  82,  70,  54,  59,  35,  82,\n",
       "          1,  88,  49,  38,  37,  51,  59],\n",
       "       [  2,  46,  31,  78,  14,  48,   2,  86,  46,  42,  93,  31,  85,\n",
       "         59,  61,  56,  84,   2, 100,  61],\n",
       "       [ 22,  29,  55,  75,   7,  21,  23,  28,  85,  97,  31,   2,  35,\n",
       "         28,  98,  87,  84,  91,  18,  25],\n",
       "       [ 42,  90,  12,  55,  81,  19,  12,  81,  12,  60,  57,  61,  21,\n",
       "         41, 100,  88,  88,  47,  95,  82],\n",
       "       [ 63,  67,  88,  33,  77,  42,  22,  83,  90,  75,  60,  67,  76,\n",
       "         95,  63,  38,  63,  63,  19,  80],\n",
       "       [ 83,  64,  30,  85,  71,   3,  59,  66,  69,  24,   3,  71,  11,\n",
       "         26,  18,  86,  49,   2,  26,  12],\n",
       "       [ 93,  15,  10,  79,  27,  47,  52,  25,  71,  41,  86,  35,  88,\n",
       "         16,  65,  93,  87,   5,  93,  97],\n",
       "       [  7,  50,  35,  19,  52,  59,  41,  48,  54,  87,  92,  43,  93,\n",
       "         77,  24,  18,  26,   7,  94,  78],\n",
       "       [ 28,  54,  64,  12,  60,  57,  92,   2,  12,  23,  41,  51,   9,\n",
       "         74,   9,  63,  28,   4,  27,  14],\n",
       "       [ 62,  81,  76,  82,  46,  80,  55,  88,  38,  67,  67,  88,  79,\n",
       "         86,  18,  11,  13,  84,  26,   9],\n",
       "       [ 90,  35,  62,  58,  50,  33,  90,  50,  27,  54,  69,  76, 100,\n",
       "         25,  31,  38,  72,  74,  92,  74],\n",
       "       [ 37,  40,  30,  65,   6,  43,  83,  72,  21,  33,  99,  44,  10,\n",
       "         24,  38,  31,  13,  71,   6,  39],\n",
       "       [ 14,  65,  51,  53,  90, 100,  14,  97,  43,  26,  95,  16,  46,\n",
       "         60,  88,  48,  51,  13,   7,  86],\n",
       "       [ 89,   1,  39,  79,  56,  78,  74,  12,  52,  23,  85,  13,  82,\n",
       "         34,  21,  65,  23,  90,  78,  31],\n",
       "       [ 15,  26,  66,  87,  83,   5,   3,  47,  54,  56,  88,  74,  46,\n",
       "         56,  39,  21,  48,  35,  63,  12],\n",
       "       [ 12,  76,   6,  10,  25,  45,  48,  38,   8,  36,  67,  71,  83,\n",
       "         73,  50,  11,  54,  64,  80,  83],\n",
       "       [ 50,  64,  59,  66,  94,  70,  95,  60,  14,  73,  64,  44,  30,\n",
       "         84,  73,  40,  32,  48,  33,  92],\n",
       "       [100,  10,   5,  42,  55,  84,  74,  11,  27,  98,  60,  23,  83,\n",
       "         49,  16,  27,  25,  54,   6,  80],\n",
       "       [ 86,  91,  43,  16,   9,  20,  30,  54,   2,  46,   1,  25,  24,\n",
       "         89,  69,  92,   7,  58,  64,  40]])"
      ]
     },
     "execution_count": 19,
     "metadata": {},
     "output_type": "execute_result"
    }
   ],
   "source": [
    "test = np.random.randint(1, 101, (20,20))\n",
    "test"
   ]
  },
  {
   "cell_type": "code",
   "execution_count": 18,
   "metadata": {},
   "outputs": [
    {
     "data": {
      "text/plain": [
       "19"
      ]
     },
     "execution_count": 18,
     "metadata": {},
     "output_type": "execute_result"
    }
   ],
   "source": [
    "test[2,6]"
   ]
  },
  {
   "attachments": {},
   "cell_type": "markdown",
   "metadata": {},
   "source": [
    "### Potential approach\n",
    "1. Getting the numbers in a workable format - (from string to integers, in a list, etc)\n",
    "2. Writing a loop to extract a 4x4 matrix of the grid\n",
    "3. Writing a function to calculate all potential products"
   ]
  },
  {
   "cell_type": "code",
   "execution_count": null,
   "metadata": {},
   "outputs": [],
   "source": [
    "num = (\"\"\"\n",
    "08 02 22 97 38 15 00 40 00 75 04 05 07 78 52 12 50 77 91 08\n",
    "49 49 99 40 17 81 18 57 60 87 17 40 98 43 69 48 04 56 62 00\n",
    "81 49 31 73 55 79 14 29 93 71 40 67 53 88 30 03 49 13 36 65\n",
    "52 70 95 23 04 60 11 42 69 24 68 56 01 32 56 71 37 02 36 91\n",
    "22 31 16 71 51 67 63 89 41 92 36 54 22 40 40 28 66 33 13 80\n",
    "24 47 32 60 99 03 45 02 44 75 33 53 78 36 84 20 35 17 12 50\n",
    "32 98 81 28 64 23 67 10 26 38 40 67 59 54 70 66 18 38 64 70\n",
    "67 26 20 68 02 62 12 20 95 63 94 39 63 08 40 91 66 49 94 21\n",
    "24 55 58 05 66 73 99 26 97 17 78 78 96 83 14 88 34 89 63 72\n",
    "21 36 23 09 75 00 76 44 20 45 35 14 00 61 33 97 34 31 33 95\n",
    "78 17 53 28 22 75 31 67 15 94 03 80 04 62 16 14 09 53 56 92\n",
    "16 39 05 42 96 35 31 47 55 58 88 24 00 17 54 24 36 29 85 57\n",
    "86 56 00 48 35 71 89 07 05 44 44 37 44 60 21 58 51 54 17 58\n",
    "19 80 81 68 05 94 47 69 28 73 92 13 86 52 17 77 04 89 55 40\n",
    "04 52 08 83 97 35 99 16 07 97 57 32 16 26 26 79 33 27 98 66\n",
    "88 36 68 87 57 62 20 72 03 46 33 67 46 55 12 32 63 93 53 69\n",
    "04 42 16 73 38 25 39 11 24 94 72 18 08 46 29 32 40 62 76 36\n",
    "20 69 36 41 72 30 23 88 34 62 99 69 82 67 59 85 74 04 36 16\n",
    "20 73 35 29 78 31 90 01 74 31 49 71 48 86 81 16 23 57 05 54\n",
    "01 70 54 71 83 51 54 69 16 92 33 48 61 43 52 01 89 19 67 48\"\"\".replace(\"\\n\", \" \"))"
   ]
  },
  {
   "cell_type": "code",
   "execution_count": null,
   "metadata": {},
   "outputs": [],
   "source": []
  },
  {
   "attachments": {},
   "cell_type": "markdown",
   "metadata": {},
   "source": [
    "## Answer:\n",
    "Here you can check whether your results matches the solutions. You are encouraged to look at the code after you gave it a serious try"
   ]
  },
  {
   "cell_type": "code",
   "execution_count": null,
   "metadata": {},
   "outputs": [],
   "source": [
    "def question1(num):\n",
    "\n",
    "    # Function to create product of numbers \n",
    "    def list_product(digits, maximum):\n",
    "        # Calculating the maximum of left, right, yp and down\n",
    "        for i in range(digits.shape[0]):\n",
    "            product = max(np.prod(digits[:,i]), # Horizontal\n",
    "                          np.prod(digits[i,:]), # Vertical\n",
    "                          np.prod(digits.diagonal()), # Diagonal\n",
    "                          np.prod(np.fliplr(digits).diagonal()) # Reverse diagonal\n",
    "                          )        \n",
    "            # Checking whether its higher than the maximum\n",
    "            if product > maximum:\n",
    "                maximum = product\n",
    "\n",
    "        return maximum\n",
    "\n",
    "    # Length of the number of rows\n",
    "    num_rows = 20\n",
    "    adjacent_numbers = 4\n",
    "    max_product = 0\n",
    "\n",
    "    # List out of all numbers\n",
    "    list_num = num.split()\n",
    "\n",
    "    # Empty list \n",
    "    list_lists = []\n",
    "\n",
    "    # Numpy list of lists - Changing the format from the a big list, to a list of lists\n",
    "    for elem in range(num_rows):\n",
    "        start = (elem) * 20 # The grid has 20 columns\n",
    "        end = (elem + 1) * 20 \n",
    "        row = list_num[start:end]\n",
    "        list_lists.append(row)    \n",
    "\n",
    "    # Using numpy for easier slicing\n",
    "    list_lists = np.array(list_lists, dtype = int) # This is used for using the functions with less effort\n",
    "\n",
    "    # Getting 4x4 matrices out of all the datapoints\n",
    "    for i in range(num_rows - adjacent_numbers):\n",
    "        # Going column wise \n",
    "        start_i = i\n",
    "        end_i = i + 4\n",
    "        # As well as row wise\n",
    "        for j in range(num_rows - adjacent_numbers):\n",
    "            start_j = j\n",
    "            end_j = j + 4\n",
    "            # Applying the function for every 4x4 matrix\n",
    "            max_product = list_product(list_lists[start_i:end_i,start_j:end_j],\n",
    "                                       max_product)\n",
    "\n",
    "    print(max_product)\n",
    "    \n",
    "question1(num)"
   ]
  }
 ],
 "metadata": {
  "kernelspec": {
   "display_name": "Python 3 (ipykernel)",
   "language": "python",
   "name": "python3"
  },
  "language_info": {
   "codemirror_mode": {
    "name": "ipython",
    "version": 3
   },
   "file_extension": ".py",
   "mimetype": "text/x-python",
   "name": "python",
   "nbconvert_exporter": "python",
   "pygments_lexer": "ipython3",
   "version": "3.10.11"
  },
  "varInspector": {
   "cols": {
    "lenName": 16,
    "lenType": 16,
    "lenVar": 40
   },
   "kernels_config": {
    "python": {
     "delete_cmd_postfix": "",
     "delete_cmd_prefix": "del ",
     "library": "var_list.py",
     "varRefreshCmd": "print(var_dic_list())"
    },
    "r": {
     "delete_cmd_postfix": ") ",
     "delete_cmd_prefix": "rm(",
     "library": "var_list.r",
     "varRefreshCmd": "cat(var_dic_list()) "
    }
   },
   "types_to_exclude": [
    "module",
    "function",
    "builtin_function_or_method",
    "instance",
    "_Feature"
   ],
   "window_display": false
  }
 },
 "nbformat": 4,
 "nbformat_minor": 4
}
